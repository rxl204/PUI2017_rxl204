{
 "cells": [
  {
   "cell_type": "code",
   "execution_count": 1,
   "metadata": {},
   "outputs": [
    {
     "name": "stdout",
     "output_type": "stream",
     "text": [
      "Populating the interactive namespace from numpy and matplotlib\n"
     ]
    },
    {
     "name": "stderr",
     "output_type": "stream",
     "text": [
      "/opt/rh/anaconda/root/envs/PUI2016_Python2/lib/python2.7/site-packages/IPython/html.py:14: ShimWarning: The `IPython.html` package has been deprecated. You should import from `notebook` instead. `IPython.html.widgets` has moved to `ipywidgets`.\n",
      "  \"`IPython.html.widgets` has moved to `ipywidgets`.\", ShimWarning)\n"
     ]
    }
   ],
   "source": [
    "#import required packages\n",
    "import os\n",
    "import ast\n",
    "import urllib2\n",
    "import urllib\n",
    "import pandas as pd\n",
    "import json\n",
    "from cStringIO import StringIO\n",
    "import scipy.stats\n",
    "from scipy.cluster.vq import whiten\n",
    "from matplotlib import gridspec\n",
    "from sklearn.cluster import KMeans\n",
    "import statsmodels.formula.api as smf\n",
    "from pandas.tools.plotting import scatter_matrix\n",
    "import geopandas as gpd\n",
    "import glob\n",
    "from fiona.crs import from_epsg\n",
    "import datetime as dt\n",
    "import zipfile\n",
    "from matplotlib import cm\n",
    "from descartes import PolygonPatch\n",
    "import scipy.cluster as scp\n",
    "import pylab as pl\n",
    "from pandas.io.common import ZipFile\n",
    "from scipy.cluster.hierarchy import dendrogram, linkage, fcluster\n",
    "from geopandas import GeoDataFrame\n",
    "import seaborn as sns\n",
    "from sklearn import cluster\n",
    "%pylab inline"
   ]
  },
  {
   "cell_type": "markdown",
   "metadata": {},
   "source": [
    "## Task1: Calculate travel times of the complete route between the following Stop IDs:\n",
    "- 553332 ROOSEVELT AV/61 ST NB\n",
    "- 551576 74 ST/ROOSEVELT AV STATION NB\n",
    "- 804110 LaGUARDIA INTERNAL RDWY/TERMINAL B NB\n",
    "- 503875 LGA/TERMINAL D SB\n",
    "- 503848 LGA/TERMINAL C SB\n",
    "- 505192 ROOSEVELT AV/74 ST SB\n",
    "- 982075 61 ST/ROOSEVELT AV SB"
   ]
  },
  {
   "cell_type": "code",
   "execution_count": 2,
   "metadata": {},
   "outputs": [
    {
     "data": {
      "text/html": [
       "<div>\n",
       "<table border=\"1\" class=\"dataframe\">\n",
       "  <thead>\n",
       "    <tr style=\"text-align: right;\">\n",
       "      <th></th>\n",
       "      <th>id</th>\n",
       "      <th>lat</th>\n",
       "      <th>lon</th>\n",
       "      <th>bearing</th>\n",
       "      <th>route</th>\n",
       "      <th>direction</th>\n",
       "      <th>service_date</th>\n",
       "      <th>gtfs_trip_id</th>\n",
       "      <th>gtfs_shape_id</th>\n",
       "      <th>gtfs_short_route_name</th>\n",
       "      <th>...</th>\n",
       "      <th>sched_arrive</th>\n",
       "      <th>next_predicted_arrival_time</th>\n",
       "      <th>next_predicted_departure_time</th>\n",
       "      <th>next_stop_distance_from_origin</th>\n",
       "      <th>next_stop_distance_to_vehicle</th>\n",
       "      <th>num_stops_from_call</th>\n",
       "      <th>stops_from_call_presentable</th>\n",
       "      <th>recorded_at_time</th>\n",
       "      <th>stop_distance_difference</th>\n",
       "      <th>at_stop_boolean</th>\n",
       "    </tr>\n",
       "  </thead>\n",
       "  <tbody>\n",
       "    <tr>\n",
       "      <th>0</th>\n",
       "      <td>d254a85a-58dc-4d31-bdaf-ba343654cad9</td>\n",
       "      <td>40.801521</td>\n",
       "      <td>-73.968296</td>\n",
       "      <td>338.48288</td>\n",
       "      <td>MTA NYCT_M60+</td>\n",
       "      <td>1</td>\n",
       "      <td>2017-12-10</td>\n",
       "      <td>MTA NYCT_MQ_D7-Sunday-154300_SBS60_39</td>\n",
       "      <td>MTA_SBS600034</td>\n",
       "      <td>M60-SBS</td>\n",
       "      <td>...</td>\n",
       "      <td>26:22:00</td>\n",
       "      <td>2017-12-11 02:23:30.080000</td>\n",
       "      <td>2017-12-11 02:23:30.080000</td>\n",
       "      <td>15038.55</td>\n",
       "      <td>9.12</td>\n",
       "      <td>0</td>\n",
       "      <td>at stop</td>\n",
       "      <td>2017-12-11 02:23:07</td>\n",
       "      <td>2.609209</td>\n",
       "      <td>1</td>\n",
       "    </tr>\n",
       "    <tr>\n",
       "      <th>1</th>\n",
       "      <td>c5321b0c-a245-4a3a-aa94-4a177a917222</td>\n",
       "      <td>40.801521</td>\n",
       "      <td>-73.968296</td>\n",
       "      <td>338.48288</td>\n",
       "      <td>MTA NYCT_M60+</td>\n",
       "      <td>1</td>\n",
       "      <td>2017-12-10</td>\n",
       "      <td>MTA NYCT_MQ_D7-Sunday-154300_SBS60_39</td>\n",
       "      <td>MTA_SBS600034</td>\n",
       "      <td>M60-SBS</td>\n",
       "      <td>...</td>\n",
       "      <td>26:22:00</td>\n",
       "      <td>2017-12-11 02:23:00.100000</td>\n",
       "      <td>2017-12-11 02:23:00.100000</td>\n",
       "      <td>15038.55</td>\n",
       "      <td>9.12</td>\n",
       "      <td>0</td>\n",
       "      <td>at stop</td>\n",
       "      <td>2017-12-11 02:22:36</td>\n",
       "      <td>2.609209</td>\n",
       "      <td>1</td>\n",
       "    </tr>\n",
       "    <tr>\n",
       "      <th>2</th>\n",
       "      <td>7c125d31-3517-47d0-8e5c-b0ce1b2f052c</td>\n",
       "      <td>40.801521</td>\n",
       "      <td>-73.968296</td>\n",
       "      <td>338.48288</td>\n",
       "      <td>MTA NYCT_M60+</td>\n",
       "      <td>1</td>\n",
       "      <td>2017-12-10</td>\n",
       "      <td>MTA NYCT_MQ_D7-Sunday-154300_SBS60_39</td>\n",
       "      <td>MTA_SBS600034</td>\n",
       "      <td>M60-SBS</td>\n",
       "      <td>...</td>\n",
       "      <td>26:22:00</td>\n",
       "      <td>2017-12-11 02:22:30.027000</td>\n",
       "      <td>2017-12-11 02:22:30.027000</td>\n",
       "      <td>15038.55</td>\n",
       "      <td>9.12</td>\n",
       "      <td>0</td>\n",
       "      <td>at stop</td>\n",
       "      <td>2017-12-11 02:22:03</td>\n",
       "      <td>2.609209</td>\n",
       "      <td>1</td>\n",
       "    </tr>\n",
       "    <tr>\n",
       "      <th>3</th>\n",
       "      <td>6fba1c52-f3ec-499e-a82d-9e5362571030</td>\n",
       "      <td>40.801521</td>\n",
       "      <td>-73.968296</td>\n",
       "      <td>338.48288</td>\n",
       "      <td>MTA NYCT_M60+</td>\n",
       "      <td>1</td>\n",
       "      <td>2017-12-10</td>\n",
       "      <td>MTA NYCT_MQ_D7-Sunday-154300_SBS60_39</td>\n",
       "      <td>MTA_SBS600034</td>\n",
       "      <td>M60-SBS</td>\n",
       "      <td>...</td>\n",
       "      <td>26:22:00</td>\n",
       "      <td>2017-12-11 02:22:00.216000</td>\n",
       "      <td>2017-12-11 02:22:00.216000</td>\n",
       "      <td>15038.55</td>\n",
       "      <td>9.12</td>\n",
       "      <td>0</td>\n",
       "      <td>at stop</td>\n",
       "      <td>2017-12-11 02:21:31</td>\n",
       "      <td>2.609209</td>\n",
       "      <td>1</td>\n",
       "    </tr>\n",
       "    <tr>\n",
       "      <th>4</th>\n",
       "      <td>89586119-c515-428c-b851-46f8a4cff420</td>\n",
       "      <td>40.801750</td>\n",
       "      <td>-73.968527</td>\n",
       "      <td>234.76240</td>\n",
       "      <td>MTA NYCT_M60+</td>\n",
       "      <td>1</td>\n",
       "      <td>2017-12-10</td>\n",
       "      <td>MTA NYCT_MQ_D7-Sunday-154300_SBS60_39</td>\n",
       "      <td>MTA_SBS600034</td>\n",
       "      <td>M60-SBS</td>\n",
       "      <td>...</td>\n",
       "      <td>26:22:00</td>\n",
       "      <td>2017-12-11 02:21:00.004000</td>\n",
       "      <td>2017-12-11 02:21:00.004000</td>\n",
       "      <td>15038.55</td>\n",
       "      <td>50.16</td>\n",
       "      <td>0</td>\n",
       "      <td>approaching</td>\n",
       "      <td>2017-12-11 02:20:28</td>\n",
       "      <td>NaN</td>\n",
       "      <td>0</td>\n",
       "    </tr>\n",
       "  </tbody>\n",
       "</table>\n",
       "<p>5 rows × 31 columns</p>\n",
       "</div>"
      ],
      "text/plain": [
       "                                     id        lat        lon    bearing  \\\n",
       "0  d254a85a-58dc-4d31-bdaf-ba343654cad9  40.801521 -73.968296  338.48288   \n",
       "1  c5321b0c-a245-4a3a-aa94-4a177a917222  40.801521 -73.968296  338.48288   \n",
       "2  7c125d31-3517-47d0-8e5c-b0ce1b2f052c  40.801521 -73.968296  338.48288   \n",
       "3  6fba1c52-f3ec-499e-a82d-9e5362571030  40.801521 -73.968296  338.48288   \n",
       "4  89586119-c515-428c-b851-46f8a4cff420  40.801750 -73.968527  234.76240   \n",
       "\n",
       "           route  direction service_date  \\\n",
       "0  MTA NYCT_M60+          1   2017-12-10   \n",
       "1  MTA NYCT_M60+          1   2017-12-10   \n",
       "2  MTA NYCT_M60+          1   2017-12-10   \n",
       "3  MTA NYCT_M60+          1   2017-12-10   \n",
       "4  MTA NYCT_M60+          1   2017-12-10   \n",
       "\n",
       "                            gtfs_trip_id  gtfs_shape_id gtfs_short_route_name  \\\n",
       "0  MTA NYCT_MQ_D7-Sunday-154300_SBS60_39  MTA_SBS600034               M60-SBS   \n",
       "1  MTA NYCT_MQ_D7-Sunday-154300_SBS60_39  MTA_SBS600034               M60-SBS   \n",
       "2  MTA NYCT_MQ_D7-Sunday-154300_SBS60_39  MTA_SBS600034               M60-SBS   \n",
       "3  MTA NYCT_MQ_D7-Sunday-154300_SBS60_39  MTA_SBS600034               M60-SBS   \n",
       "4  MTA NYCT_MQ_D7-Sunday-154300_SBS60_39  MTA_SBS600034               M60-SBS   \n",
       "\n",
       "        ...       sched_arrive next_predicted_arrival_time  \\\n",
       "0       ...           26:22:00  2017-12-11 02:23:30.080000   \n",
       "1       ...           26:22:00  2017-12-11 02:23:00.100000   \n",
       "2       ...           26:22:00  2017-12-11 02:22:30.027000   \n",
       "3       ...           26:22:00  2017-12-11 02:22:00.216000   \n",
       "4       ...           26:22:00  2017-12-11 02:21:00.004000   \n",
       "\n",
       "  next_predicted_departure_time next_stop_distance_from_origin  \\\n",
       "0    2017-12-11 02:23:30.080000                       15038.55   \n",
       "1    2017-12-11 02:23:00.100000                       15038.55   \n",
       "2    2017-12-11 02:22:30.027000                       15038.55   \n",
       "3    2017-12-11 02:22:00.216000                       15038.55   \n",
       "4    2017-12-11 02:21:00.004000                       15038.55   \n",
       "\n",
       "   next_stop_distance_to_vehicle  num_stops_from_call  \\\n",
       "0                           9.12                    0   \n",
       "1                           9.12                    0   \n",
       "2                           9.12                    0   \n",
       "3                           9.12                    0   \n",
       "4                          50.16                    0   \n",
       "\n",
       "  stops_from_call_presentable     recorded_at_time stop_distance_difference  \\\n",
       "0                     at stop  2017-12-11 02:23:07                 2.609209   \n",
       "1                     at stop  2017-12-11 02:22:36                 2.609209   \n",
       "2                     at stop  2017-12-11 02:22:03                 2.609209   \n",
       "3                     at stop  2017-12-11 02:21:31                 2.609209   \n",
       "4                 approaching  2017-12-11 02:20:28                      NaN   \n",
       "\n",
       "  at_stop_boolean  \n",
       "0               1  \n",
       "1               1  \n",
       "2               1  \n",
       "3               1  \n",
       "4               0  \n",
       "\n",
       "[5 rows x 31 columns]"
      ]
     },
     "execution_count": 2,
     "metadata": {},
     "output_type": "execute_result"
    }
   ],
   "source": [
    "#read in data\n",
    "mta = pd.read_csv('all-records_2017-12-10.csv')\n",
    "mta.head()"
   ]
  },
  {
   "cell_type": "code",
   "execution_count": 3,
   "metadata": {},
   "outputs": [
    {
     "data": {
      "text/plain": [
       "array(['MTA NYCT_M60+', 'MTABC_Q70+'], dtype=object)"
      ]
     },
     "execution_count": 3,
     "metadata": {},
     "output_type": "execute_result"
    }
   ],
   "source": [
    "#check route\n",
    "mta.route.unique()"
   ]
  },
  {
   "cell_type": "code",
   "execution_count": 4,
   "metadata": {},
   "outputs": [],
   "source": [
    "#selecting only entries in route Q70+\n",
    "df = mta.loc[mta['route'] == 'MTABC_Q70+']"
   ]
  },
  {
   "cell_type": "code",
   "execution_count": 5,
   "metadata": {},
   "outputs": [
    {
     "data": {
      "text/plain": [
       "array([0])"
      ]
     },
     "execution_count": 5,
     "metadata": {},
     "output_type": "execute_result"
    }
   ],
   "source": [
    "#check direction \n",
    "df.direction.unique()"
   ]
  },
  {
   "cell_type": "code",
   "execution_count": 6,
   "metadata": {},
   "outputs": [
    {
     "data": {
      "text/plain": [
       "array(['MTA_553332'], dtype=object)"
      ]
     },
     "execution_count": 6,
     "metadata": {},
     "output_type": "execute_result"
    }
   ],
   "source": [
    "#check stops\n",
    "df.origin_stop_id.unique()"
   ]
  },
  {
   "cell_type": "code",
   "execution_count": 7,
   "metadata": {},
   "outputs": [
    {
     "data": {
      "text/plain": [
       "array(['MTA_982075'], dtype=object)"
      ]
     },
     "execution_count": 7,
     "metadata": {},
     "output_type": "execute_result"
    }
   ],
   "source": [
    "df.destination_stop_id.unique()"
   ]
  },
  {
   "cell_type": "code",
   "execution_count": 8,
   "metadata": {},
   "outputs": [
    {
     "data": {
      "text/plain": [
       "array(['MTA_982075', 'MTA_505192', 'MTA_804110', 'MTA_503875',\n",
       "       'MTA_503848', 'MTA_551576', 'MTA_553332'], dtype=object)"
      ]
     },
     "execution_count": 8,
     "metadata": {},
     "output_type": "execute_result"
    }
   ],
   "source": [
    "df.next_stop_id.unique()"
   ]
  },
  {
   "cell_type": "code",
   "execution_count": 9,
   "metadata": {},
   "outputs": [
    {
     "name": "stderr",
     "output_type": "stream",
     "text": [
      "/opt/rh/anaconda/root/envs/PUI2016_Python2/lib/python2.7/site-packages/ipykernel/__main__.py:1: SettingWithCopyWarning: \n",
      "A value is trying to be set on a copy of a slice from a DataFrame.\n",
      "Try using .loc[row_indexer,col_indexer] = value instead\n",
      "\n",
      "See the caveats in the documentation: http://pandas.pydata.org/pandas-docs/stable/indexing.html#indexing-view-versus-copy\n",
      "  if __name__ == '__main__':\n",
      "/opt/rh/anaconda/root/envs/PUI2016_Python2/lib/python2.7/site-packages/ipykernel/__main__.py:2: SettingWithCopyWarning: \n",
      "A value is trying to be set on a copy of a slice from a DataFrame.\n",
      "Try using .loc[row_indexer,col_indexer] = value instead\n",
      "\n",
      "See the caveats in the documentation: http://pandas.pydata.org/pandas-docs/stable/indexing.html#indexing-view-versus-copy\n",
      "  from ipykernel import kernelapp as app\n"
     ]
    }
   ],
   "source": [
    "df['recorded_at_time'] = pd.to_datetime(df['recorded_at_time'])\n",
    "df['next_predicted_arrival_time'] = pd.to_datetime(df['next_predicted_arrival_time'])"
   ]
  },
  {
   "cell_type": "code",
   "execution_count": 10,
   "metadata": {},
   "outputs": [
    {
     "name": "stderr",
     "output_type": "stream",
     "text": [
      "/opt/rh/anaconda/root/envs/PUI2016_Python2/lib/python2.7/site-packages/ipykernel/__main__.py:1: SettingWithCopyWarning: \n",
      "A value is trying to be set on a copy of a slice from a DataFrame\n",
      "\n",
      "See the caveats in the documentation: http://pandas.pydata.org/pandas-docs/stable/indexing.html#indexing-view-versus-copy\n",
      "  if __name__ == '__main__':\n"
     ]
    }
   ],
   "source": [
    "df.sort_values(['recorded_at_time'],ascending=True, inplace=True)"
   ]
  },
  {
   "cell_type": "code",
   "execution_count": 11,
   "metadata": {},
   "outputs": [
    {
     "data": {
      "text/plain": [
       "array(['MTABC_7451', 'MTABC_7449', 'MTABC_7448', 'MTABC_7450',\n",
       "       'MTABC_7453', 'MTABC_7446', 'MTABC_7445', 'MTABC_7472',\n",
       "       'MTABC_7455', 'MTABC_7463'], dtype=object)"
      ]
     },
     "execution_count": 11,
     "metadata": {},
     "output_type": "execute_result"
    }
   ],
   "source": [
    "df.vehicle_id.unique()"
   ]
  },
  {
   "cell_type": "markdown",
   "metadata": {},
   "source": [
    "There are 10 buses running the same route"
   ]
  },
  {
   "cell_type": "code",
   "execution_count": 12,
   "metadata": {},
   "outputs": [
    {
     "data": {
      "text/html": [
       "<div>\n",
       "<table border=\"1\" class=\"dataframe\">\n",
       "  <thead>\n",
       "    <tr style=\"text-align: right;\">\n",
       "      <th></th>\n",
       "      <th>id</th>\n",
       "      <th>lat</th>\n",
       "      <th>lon</th>\n",
       "      <th>vehicle_id</th>\n",
       "      <th>next_stop_id</th>\n",
       "      <th>next_predicted_arrival_time</th>\n",
       "      <th>next_predicted_departure_time</th>\n",
       "      <th>next_stop_distance_from_origin</th>\n",
       "      <th>recorded_at_time</th>\n",
       "      <th>at_stop_boolean</th>\n",
       "    </tr>\n",
       "  </thead>\n",
       "  <tbody>\n",
       "    <tr>\n",
       "      <th>34612</th>\n",
       "      <td>f958a26b-b017-4654-ae01-c23851c65a33</td>\n",
       "      <td>40.745688</td>\n",
       "      <td>-73.902816</td>\n",
       "      <td>MTABC_7451</td>\n",
       "      <td>MTA_553332</td>\n",
       "      <td>NaT</td>\n",
       "      <td>NaN</td>\n",
       "      <td>0.01</td>\n",
       "      <td>2017-12-09 23:58:07</td>\n",
       "      <td>1</td>\n",
       "    </tr>\n",
       "    <tr>\n",
       "      <th>34611</th>\n",
       "      <td>c9720755-0d32-48ed-9eb2-cfcb68d79ec3</td>\n",
       "      <td>40.745688</td>\n",
       "      <td>-73.902816</td>\n",
       "      <td>MTABC_7451</td>\n",
       "      <td>MTA_553332</td>\n",
       "      <td>NaT</td>\n",
       "      <td>NaN</td>\n",
       "      <td>0.01</td>\n",
       "      <td>2017-12-09 23:58:40</td>\n",
       "      <td>1</td>\n",
       "    </tr>\n",
       "    <tr>\n",
       "      <th>34610</th>\n",
       "      <td>f851c396-afdb-4ef8-b37b-93f7bbde6af2</td>\n",
       "      <td>40.745688</td>\n",
       "      <td>-73.902816</td>\n",
       "      <td>MTABC_7451</td>\n",
       "      <td>MTA_553332</td>\n",
       "      <td>NaT</td>\n",
       "      <td>NaN</td>\n",
       "      <td>0.01</td>\n",
       "      <td>2017-12-09 23:59:11</td>\n",
       "      <td>1</td>\n",
       "    </tr>\n",
       "    <tr>\n",
       "      <th>34609</th>\n",
       "      <td>5a2bdbe4-c4eb-4552-8230-bdfac12ba553</td>\n",
       "      <td>40.745688</td>\n",
       "      <td>-73.902816</td>\n",
       "      <td>MTABC_7451</td>\n",
       "      <td>MTA_553332</td>\n",
       "      <td>NaT</td>\n",
       "      <td>NaN</td>\n",
       "      <td>0.01</td>\n",
       "      <td>2017-12-09 23:59:42</td>\n",
       "      <td>1</td>\n",
       "    </tr>\n",
       "    <tr>\n",
       "      <th>34608</th>\n",
       "      <td>eca20a41-4761-4b58-b6cc-ea7453f01631</td>\n",
       "      <td>40.745688</td>\n",
       "      <td>-73.902816</td>\n",
       "      <td>MTABC_7451</td>\n",
       "      <td>MTA_553332</td>\n",
       "      <td>NaT</td>\n",
       "      <td>NaN</td>\n",
       "      <td>0.01</td>\n",
       "      <td>2017-12-09 23:59:42</td>\n",
       "      <td>1</td>\n",
       "    </tr>\n",
       "  </tbody>\n",
       "</table>\n",
       "</div>"
      ],
      "text/plain": [
       "                                         id        lat        lon  vehicle_id  \\\n",
       "34612  f958a26b-b017-4654-ae01-c23851c65a33  40.745688 -73.902816  MTABC_7451   \n",
       "34611  c9720755-0d32-48ed-9eb2-cfcb68d79ec3  40.745688 -73.902816  MTABC_7451   \n",
       "34610  f851c396-afdb-4ef8-b37b-93f7bbde6af2  40.745688 -73.902816  MTABC_7451   \n",
       "34609  5a2bdbe4-c4eb-4552-8230-bdfac12ba553  40.745688 -73.902816  MTABC_7451   \n",
       "34608  eca20a41-4761-4b58-b6cc-ea7453f01631  40.745688 -73.902816  MTABC_7451   \n",
       "\n",
       "      next_stop_id next_predicted_arrival_time next_predicted_departure_time  \\\n",
       "34612   MTA_553332                         NaT                           NaN   \n",
       "34611   MTA_553332                         NaT                           NaN   \n",
       "34610   MTA_553332                         NaT                           NaN   \n",
       "34609   MTA_553332                         NaT                           NaN   \n",
       "34608   MTA_553332                         NaT                           NaN   \n",
       "\n",
       "       next_stop_distance_from_origin    recorded_at_time  at_stop_boolean  \n",
       "34612                            0.01 2017-12-09 23:58:07                1  \n",
       "34611                            0.01 2017-12-09 23:58:40                1  \n",
       "34610                            0.01 2017-12-09 23:59:11                1  \n",
       "34609                            0.01 2017-12-09 23:59:42                1  \n",
       "34608                            0.01 2017-12-09 23:59:42                1  "
      ]
     },
     "execution_count": 12,
     "metadata": {},
     "output_type": "execute_result"
    }
   ],
   "source": [
    "#select only required columns\n",
    "df1 = df[['id', 'lat', 'lon', 'vehicle_id', 'next_stop_id','next_predicted_arrival_time', 'next_predicted_departure_time','next_stop_distance_from_origin', 'recorded_at_time', 'at_stop_boolean']]\n",
    "df1.head(5)"
   ]
  },
  {
   "cell_type": "code",
   "execution_count": 13,
   "metadata": {},
   "outputs": [
    {
     "name": "stderr",
     "output_type": "stream",
     "text": [
      "/opt/rh/anaconda/root/envs/PUI2016_Python2/lib/python2.7/site-packages/ipykernel/__main__.py:1: SettingWithCopyWarning: \n",
      "A value is trying to be set on a copy of a slice from a DataFrame.\n",
      "Try using .loc[row_indexer,col_indexer] = value instead\n",
      "\n",
      "See the caveats in the documentation: http://pandas.pydata.org/pandas-docs/stable/indexing.html#indexing-view-versus-copy\n",
      "  if __name__ == '__main__':\n"
     ]
    }
   ],
   "source": [
    "df1['time'] = df1['recorded_at_time'].dt.time"
   ]
  },
  {
   "cell_type": "code",
   "execution_count": 14,
   "metadata": {},
   "outputs": [
    {
     "name": "stderr",
     "output_type": "stream",
     "text": [
      "/opt/rh/anaconda/root/envs/PUI2016_Python2/lib/python2.7/site-packages/ipykernel/__main__.py:1: SettingWithCopyWarning: \n",
      "A value is trying to be set on a copy of a slice from a DataFrame.\n",
      "Try using .loc[row_indexer,col_indexer] = value instead\n",
      "\n",
      "See the caveats in the documentation: http://pandas.pydata.org/pandas-docs/stable/indexing.html#indexing-view-versus-copy\n",
      "  if __name__ == '__main__':\n"
     ]
    }
   ],
   "source": [
    "df1['time'] = df1['time'].astype(str)"
   ]
  },
  {
   "cell_type": "code",
   "execution_count": 15,
   "metadata": {},
   "outputs": [
    {
     "name": "stderr",
     "output_type": "stream",
     "text": [
      "/opt/rh/anaconda/root/envs/PUI2016_Python2/lib/python2.7/site-packages/ipykernel/__main__.py:1: SettingWithCopyWarning: \n",
      "A value is trying to be set on a copy of a slice from a DataFrame.\n",
      "Try using .loc[row_indexer,col_indexer] = value instead\n",
      "\n",
      "See the caveats in the documentation: http://pandas.pydata.org/pandas-docs/stable/indexing.html#indexing-view-versus-copy\n",
      "  if __name__ == '__main__':\n",
      "/opt/rh/anaconda/root/envs/PUI2016_Python2/lib/python2.7/site-packages/ipykernel/__main__.py:2: SettingWithCopyWarning: \n",
      "A value is trying to be set on a copy of a slice from a DataFrame.\n",
      "Try using .loc[row_indexer,col_indexer] = value instead\n",
      "\n",
      "See the caveats in the documentation: http://pandas.pydata.org/pandas-docs/stable/indexing.html#indexing-view-versus-copy\n",
      "  from ipykernel import kernelapp as app\n"
     ]
    }
   ],
   "source": [
    "df1['time'] = df1['time'].str.split(':').str[0]\n",
    "df1['time'] = df1['time'].astype(int)"
   ]
  },
  {
   "cell_type": "markdown",
   "metadata": {},
   "source": [
    "Sort times into intervals:\n",
    "\n",
    "- 0-5\n",
    "- 6-11\n",
    "- 12-17\n",
    "- 18-23"
   ]
  },
  {
   "cell_type": "code",
   "execution_count": 16,
   "metadata": {},
   "outputs": [
    {
     "name": "stderr",
     "output_type": "stream",
     "text": [
      "/opt/rh/anaconda/root/envs/PUI2016_Python2/lib/python2.7/site-packages/ipykernel/__main__.py:2: SettingWithCopyWarning: \n",
      "A value is trying to be set on a copy of a slice from a DataFrame.\n",
      "Try using .loc[row_indexer,col_indexer] = value instead\n",
      "\n",
      "See the caveats in the documentation: http://pandas.pydata.org/pandas-docs/stable/indexing.html#indexing-view-versus-copy\n",
      "  from ipykernel import kernelapp as app\n"
     ]
    },
    {
     "data": {
      "text/html": [
       "<div>\n",
       "<table border=\"1\" class=\"dataframe\">\n",
       "  <thead>\n",
       "    <tr style=\"text-align: right;\">\n",
       "      <th></th>\n",
       "      <th>id</th>\n",
       "      <th>lat</th>\n",
       "      <th>lon</th>\n",
       "      <th>vehicle_id</th>\n",
       "      <th>next_stop_id</th>\n",
       "      <th>next_predicted_arrival_time</th>\n",
       "      <th>next_predicted_departure_time</th>\n",
       "      <th>next_stop_distance_from_origin</th>\n",
       "      <th>recorded_at_time</th>\n",
       "      <th>at_stop_boolean</th>\n",
       "      <th>time</th>\n",
       "      <th>TIMEINT</th>\n",
       "    </tr>\n",
       "  </thead>\n",
       "  <tbody>\n",
       "    <tr>\n",
       "      <th>34612</th>\n",
       "      <td>f958a26b-b017-4654-ae01-c23851c65a33</td>\n",
       "      <td>40.745688</td>\n",
       "      <td>-73.902816</td>\n",
       "      <td>MTABC_7451</td>\n",
       "      <td>MTA_553332</td>\n",
       "      <td>NaT</td>\n",
       "      <td>NaN</td>\n",
       "      <td>0.01</td>\n",
       "      <td>2017-12-09 23:58:07</td>\n",
       "      <td>1</td>\n",
       "      <td>23</td>\n",
       "      <td>4</td>\n",
       "    </tr>\n",
       "    <tr>\n",
       "      <th>34611</th>\n",
       "      <td>c9720755-0d32-48ed-9eb2-cfcb68d79ec3</td>\n",
       "      <td>40.745688</td>\n",
       "      <td>-73.902816</td>\n",
       "      <td>MTABC_7451</td>\n",
       "      <td>MTA_553332</td>\n",
       "      <td>NaT</td>\n",
       "      <td>NaN</td>\n",
       "      <td>0.01</td>\n",
       "      <td>2017-12-09 23:58:40</td>\n",
       "      <td>1</td>\n",
       "      <td>23</td>\n",
       "      <td>4</td>\n",
       "    </tr>\n",
       "    <tr>\n",
       "      <th>34610</th>\n",
       "      <td>f851c396-afdb-4ef8-b37b-93f7bbde6af2</td>\n",
       "      <td>40.745688</td>\n",
       "      <td>-73.902816</td>\n",
       "      <td>MTABC_7451</td>\n",
       "      <td>MTA_553332</td>\n",
       "      <td>NaT</td>\n",
       "      <td>NaN</td>\n",
       "      <td>0.01</td>\n",
       "      <td>2017-12-09 23:59:11</td>\n",
       "      <td>1</td>\n",
       "      <td>23</td>\n",
       "      <td>4</td>\n",
       "    </tr>\n",
       "    <tr>\n",
       "      <th>34609</th>\n",
       "      <td>5a2bdbe4-c4eb-4552-8230-bdfac12ba553</td>\n",
       "      <td>40.745688</td>\n",
       "      <td>-73.902816</td>\n",
       "      <td>MTABC_7451</td>\n",
       "      <td>MTA_553332</td>\n",
       "      <td>NaT</td>\n",
       "      <td>NaN</td>\n",
       "      <td>0.01</td>\n",
       "      <td>2017-12-09 23:59:42</td>\n",
       "      <td>1</td>\n",
       "      <td>23</td>\n",
       "      <td>4</td>\n",
       "    </tr>\n",
       "    <tr>\n",
       "      <th>34608</th>\n",
       "      <td>eca20a41-4761-4b58-b6cc-ea7453f01631</td>\n",
       "      <td>40.745688</td>\n",
       "      <td>-73.902816</td>\n",
       "      <td>MTABC_7451</td>\n",
       "      <td>MTA_553332</td>\n",
       "      <td>NaT</td>\n",
       "      <td>NaN</td>\n",
       "      <td>0.01</td>\n",
       "      <td>2017-12-09 23:59:42</td>\n",
       "      <td>1</td>\n",
       "      <td>23</td>\n",
       "      <td>4</td>\n",
       "    </tr>\n",
       "  </tbody>\n",
       "</table>\n",
       "</div>"
      ],
      "text/plain": [
       "                                         id        lat        lon  vehicle_id  \\\n",
       "34612  f958a26b-b017-4654-ae01-c23851c65a33  40.745688 -73.902816  MTABC_7451   \n",
       "34611  c9720755-0d32-48ed-9eb2-cfcb68d79ec3  40.745688 -73.902816  MTABC_7451   \n",
       "34610  f851c396-afdb-4ef8-b37b-93f7bbde6af2  40.745688 -73.902816  MTABC_7451   \n",
       "34609  5a2bdbe4-c4eb-4552-8230-bdfac12ba553  40.745688 -73.902816  MTABC_7451   \n",
       "34608  eca20a41-4761-4b58-b6cc-ea7453f01631  40.745688 -73.902816  MTABC_7451   \n",
       "\n",
       "      next_stop_id next_predicted_arrival_time next_predicted_departure_time  \\\n",
       "34612   MTA_553332                         NaT                           NaN   \n",
       "34611   MTA_553332                         NaT                           NaN   \n",
       "34610   MTA_553332                         NaT                           NaN   \n",
       "34609   MTA_553332                         NaT                           NaN   \n",
       "34608   MTA_553332                         NaT                           NaN   \n",
       "\n",
       "       next_stop_distance_from_origin    recorded_at_time  at_stop_boolean  \\\n",
       "34612                            0.01 2017-12-09 23:58:07                1   \n",
       "34611                            0.01 2017-12-09 23:58:40                1   \n",
       "34610                            0.01 2017-12-09 23:59:11                1   \n",
       "34609                            0.01 2017-12-09 23:59:42                1   \n",
       "34608                            0.01 2017-12-09 23:59:42                1   \n",
       "\n",
       "       time TIMEINT  \n",
       "34612    23       4  \n",
       "34611    23       4  \n",
       "34610    23       4  \n",
       "34609    23       4  \n",
       "34608    23       4  "
      ]
     },
     "execution_count": 16,
     "metadata": {},
     "output_type": "execute_result"
    }
   ],
   "source": [
    "# sorting into time interval bins\n",
    "df1['TIMEINT'] = pd.cut(df1['time'], bins=[0,5,12,18,300], labels=[1,2,3,4])\n",
    "df1.head()"
   ]
  },
  {
   "cell_type": "code",
   "execution_count": 17,
   "metadata": {},
   "outputs": [],
   "source": [
    "#df1[df1['TIMEINT'].isnull()]"
   ]
  },
  {
   "cell_type": "code",
   "execution_count": 18,
   "metadata": {},
   "outputs": [
    {
     "name": "stderr",
     "output_type": "stream",
     "text": [
      "/opt/rh/anaconda/root/envs/PUI2016_Python2/lib/python2.7/site-packages/pandas/core/generic.py:3191: SettingWithCopyWarning: \n",
      "A value is trying to be set on a copy of a slice from a DataFrame\n",
      "\n",
      "See the caveats in the documentation: http://pandas.pydata.org/pandas-docs/stable/indexing.html#indexing-view-versus-copy\n",
      "  self._update_inplace(new_data)\n"
     ]
    }
   ],
   "source": [
    "df1['TIMEINT'].fillna(1, inplace=True)"
   ]
  },
  {
   "cell_type": "code",
   "execution_count": 19,
   "metadata": {},
   "outputs": [],
   "source": [
    "df1 = df1.loc[df1['at_stop_boolean'] == 1]"
   ]
  },
  {
   "cell_type": "markdown",
   "metadata": {},
   "source": [
    "# Calculate Duration by Time Interval Bins\n",
    "\n",
    "- Filter to only include origin and destination stops. Calculate time delta between two time stamps"
   ]
  },
  {
   "cell_type": "code",
   "execution_count": 20,
   "metadata": {},
   "outputs": [],
   "source": [
    "stops = ['MTA_553332', 'MTA_982075']\n",
    "se = df1.loc[df1['next_stop_id'].isin(stops)]"
   ]
  },
  {
   "cell_type": "code",
   "execution_count": 21,
   "metadata": {},
   "outputs": [],
   "source": [
    "dse = dict(tuple(se.groupby('vehicle_id')))"
   ]
  },
  {
   "cell_type": "code",
   "execution_count": 22,
   "metadata": {},
   "outputs": [],
   "source": [
    "dse51 = dse['MTABC_7451']\n",
    "dse51.reset_index(drop=True, inplace=True)\n",
    "dse51['time_delta']=np.nan\n",
    "\n",
    "dse49 = dse['MTABC_7449']\n",
    "dse49.reset_index(drop=True, inplace=True)\n",
    "dse49['time_delta']=np.nan\n",
    "\n",
    "dse48 = dse['MTABC_7448']\n",
    "dse48.reset_index(drop=True, inplace=True)\n",
    "dse48['time_delta']=np.nan\n",
    "\n",
    "dse50 = dse['MTABC_7450']\n",
    "dse50.reset_index(drop=True, inplace=True)\n",
    "dse50['time_delta']=np.nan\n",
    "\n",
    "dse53 = dse['MTABC_7453']\n",
    "dse53.reset_index(drop=True, inplace=True)\n",
    "dse53['time_delta']=np.nan\n",
    "\n",
    "dse46 = dse['MTABC_7446']\n",
    "dse46.reset_index(drop=True, inplace=True)\n",
    "dse46['time_delta']=np.nan\n",
    "\n",
    "dse45 = dse['MTABC_7445']\n",
    "dse45.reset_index(drop=True, inplace=True)\n",
    "dse45['time_delta']=np.nan\n",
    "\n",
    "dse72 = dse['MTABC_7472']\n",
    "dse72.reset_index(drop=True, inplace=True)\n",
    "dse72['time_delta']=np.nan\n",
    "\n",
    "dse55 = dse['MTABC_7455']\n",
    "dse55.reset_index(drop=True, inplace=True)\n",
    "dse55['time_delta']=np.nan\n",
    "\n",
    "dse63 = dse['MTABC_7463']\n",
    "dse63.reset_index(drop=True, inplace=True)\n",
    "dse63['time_delta']=np.nan\n"
   ]
  },
  {
   "cell_type": "code",
   "execution_count": 23,
   "metadata": {},
   "outputs": [
    {
     "name": "stderr",
     "output_type": "stream",
     "text": [
      "/opt/rh/anaconda/root/envs/PUI2016_Python2/lib/python2.7/site-packages/ipykernel/__main__.py:2: SettingWithCopyWarning: \n",
      "A value is trying to be set on a copy of a slice from a DataFrame\n",
      "\n",
      "See the caveats in the documentation: http://pandas.pydata.org/pandas-docs/stable/indexing.html#indexing-view-versus-copy\n",
      "  from ipykernel import kernelapp as app\n"
     ]
    }
   ],
   "source": [
    "for i in range(0,(len(dse51) - 1)):\n",
    "    dse51['time_delta'][i] = dse51.recorded_at_time[i+1] - dse51.recorded_at_time[i]\n",
    "dse51;"
   ]
  },
  {
   "cell_type": "code",
   "execution_count": 24,
   "metadata": {},
   "outputs": [
    {
     "name": "stderr",
     "output_type": "stream",
     "text": [
      "/opt/rh/anaconda/root/envs/PUI2016_Python2/lib/python2.7/site-packages/ipykernel/__main__.py:2: SettingWithCopyWarning: \n",
      "A value is trying to be set on a copy of a slice from a DataFrame\n",
      "\n",
      "See the caveats in the documentation: http://pandas.pydata.org/pandas-docs/stable/indexing.html#indexing-view-versus-copy\n",
      "  from ipykernel import kernelapp as app\n"
     ]
    }
   ],
   "source": [
    "for i in range(0,(len(dse49) - 1)):\n",
    "    dse49['time_delta'][i] = dse49.recorded_at_time[i+1] - dse49.recorded_at_time[i]\n",
    "dse49;"
   ]
  },
  {
   "cell_type": "code",
   "execution_count": 25,
   "metadata": {},
   "outputs": [
    {
     "name": "stderr",
     "output_type": "stream",
     "text": [
      "/opt/rh/anaconda/root/envs/PUI2016_Python2/lib/python2.7/site-packages/ipykernel/__main__.py:2: SettingWithCopyWarning: \n",
      "A value is trying to be set on a copy of a slice from a DataFrame\n",
      "\n",
      "See the caveats in the documentation: http://pandas.pydata.org/pandas-docs/stable/indexing.html#indexing-view-versus-copy\n",
      "  from ipykernel import kernelapp as app\n"
     ]
    }
   ],
   "source": [
    "for i in range(0,(len(dse48) - 1)):\n",
    "    dse48['time_delta'][i] = dse48.recorded_at_time[i+1] - dse48.recorded_at_time[i]\n",
    "dse48;"
   ]
  },
  {
   "cell_type": "code",
   "execution_count": 26,
   "metadata": {},
   "outputs": [
    {
     "name": "stderr",
     "output_type": "stream",
     "text": [
      "/opt/rh/anaconda/root/envs/PUI2016_Python2/lib/python2.7/site-packages/ipykernel/__main__.py:2: SettingWithCopyWarning: \n",
      "A value is trying to be set on a copy of a slice from a DataFrame\n",
      "\n",
      "See the caveats in the documentation: http://pandas.pydata.org/pandas-docs/stable/indexing.html#indexing-view-versus-copy\n",
      "  from ipykernel import kernelapp as app\n"
     ]
    }
   ],
   "source": [
    "for i in range(0,(len(dse50) - 1)):\n",
    "    dse50['time_delta'][i] = dse50.recorded_at_time[i+1] - dse50.recorded_at_time[i]\n",
    "dse50;"
   ]
  },
  {
   "cell_type": "code",
   "execution_count": 27,
   "metadata": {},
   "outputs": [
    {
     "name": "stderr",
     "output_type": "stream",
     "text": [
      "/opt/rh/anaconda/root/envs/PUI2016_Python2/lib/python2.7/site-packages/ipykernel/__main__.py:2: SettingWithCopyWarning: \n",
      "A value is trying to be set on a copy of a slice from a DataFrame\n",
      "\n",
      "See the caveats in the documentation: http://pandas.pydata.org/pandas-docs/stable/indexing.html#indexing-view-versus-copy\n",
      "  from ipykernel import kernelapp as app\n"
     ]
    }
   ],
   "source": [
    "for i in range(0,(len(dse53) - 1)):\n",
    "    dse53['time_delta'][i] = dse53.recorded_at_time[i+1] - dse53.recorded_at_time[i]\n",
    "dse53;"
   ]
  },
  {
   "cell_type": "code",
   "execution_count": 28,
   "metadata": {},
   "outputs": [
    {
     "name": "stderr",
     "output_type": "stream",
     "text": [
      "/opt/rh/anaconda/root/envs/PUI2016_Python2/lib/python2.7/site-packages/ipykernel/__main__.py:2: SettingWithCopyWarning: \n",
      "A value is trying to be set on a copy of a slice from a DataFrame\n",
      "\n",
      "See the caveats in the documentation: http://pandas.pydata.org/pandas-docs/stable/indexing.html#indexing-view-versus-copy\n",
      "  from ipykernel import kernelapp as app\n"
     ]
    }
   ],
   "source": [
    "for i in range(0,(len(dse46) - 1)):\n",
    "    dse46['time_delta'][i] = dse46.recorded_at_time[i+1] - dse46.recorded_at_time[i]\n",
    "dse46;"
   ]
  },
  {
   "cell_type": "code",
   "execution_count": 29,
   "metadata": {},
   "outputs": [
    {
     "name": "stderr",
     "output_type": "stream",
     "text": [
      "/opt/rh/anaconda/root/envs/PUI2016_Python2/lib/python2.7/site-packages/ipykernel/__main__.py:2: SettingWithCopyWarning: \n",
      "A value is trying to be set on a copy of a slice from a DataFrame\n",
      "\n",
      "See the caveats in the documentation: http://pandas.pydata.org/pandas-docs/stable/indexing.html#indexing-view-versus-copy\n",
      "  from ipykernel import kernelapp as app\n"
     ]
    }
   ],
   "source": [
    "for i in range(0,(len(dse45) - 1)):\n",
    "    dse45['time_delta'][i] = dse45.recorded_at_time[i+1] - dse45.recorded_at_time[i]\n",
    "dse45;"
   ]
  },
  {
   "cell_type": "code",
   "execution_count": 30,
   "metadata": {},
   "outputs": [
    {
     "name": "stderr",
     "output_type": "stream",
     "text": [
      "/opt/rh/anaconda/root/envs/PUI2016_Python2/lib/python2.7/site-packages/ipykernel/__main__.py:2: SettingWithCopyWarning: \n",
      "A value is trying to be set on a copy of a slice from a DataFrame\n",
      "\n",
      "See the caveats in the documentation: http://pandas.pydata.org/pandas-docs/stable/indexing.html#indexing-view-versus-copy\n",
      "  from ipykernel import kernelapp as app\n"
     ]
    }
   ],
   "source": [
    "for i in range(0,(len(dse72) - 1)):\n",
    "    dse72['time_delta'][i] = dse72.recorded_at_time[i+1] - dse72.recorded_at_time[i]\n",
    "dse72;"
   ]
  },
  {
   "cell_type": "code",
   "execution_count": 31,
   "metadata": {},
   "outputs": [
    {
     "name": "stderr",
     "output_type": "stream",
     "text": [
      "/opt/rh/anaconda/root/envs/PUI2016_Python2/lib/python2.7/site-packages/ipykernel/__main__.py:2: SettingWithCopyWarning: \n",
      "A value is trying to be set on a copy of a slice from a DataFrame\n",
      "\n",
      "See the caveats in the documentation: http://pandas.pydata.org/pandas-docs/stable/indexing.html#indexing-view-versus-copy\n",
      "  from ipykernel import kernelapp as app\n"
     ]
    }
   ],
   "source": [
    "for i in range(0,(len(dse55) - 1)):\n",
    "    dse55['time_delta'][i] = dse55.recorded_at_time[i+1] - dse55.recorded_at_time[i]\n",
    "dse55;"
   ]
  },
  {
   "cell_type": "code",
   "execution_count": 32,
   "metadata": {},
   "outputs": [
    {
     "name": "stderr",
     "output_type": "stream",
     "text": [
      "/opt/rh/anaconda/root/envs/PUI2016_Python2/lib/python2.7/site-packages/ipykernel/__main__.py:2: SettingWithCopyWarning: \n",
      "A value is trying to be set on a copy of a slice from a DataFrame\n",
      "\n",
      "See the caveats in the documentation: http://pandas.pydata.org/pandas-docs/stable/indexing.html#indexing-view-versus-copy\n",
      "  from ipykernel import kernelapp as app\n"
     ]
    }
   ],
   "source": [
    "for i in range(0,(len(dse63) - 1)):\n",
    "    dse63['time_delta'][i] = dse63.recorded_at_time[i+1] - dse63.recorded_at_time[i]\n",
    "dse63;"
   ]
  },
  {
   "cell_type": "code",
   "execution_count": 33,
   "metadata": {},
   "outputs": [],
   "source": [
    "dse51['time_delta'] = pd.to_timedelta(dse51['time_delta']).astype('timedelta64[s]')\n",
    "dse51 = dse51.loc[(dse51['time_delta'] > 500) & (dse51['time_delta'] < 3600)]\n",
    "#d51['delay'] = (d51['recorded_at_time'] - d51['next_predicted_arrival_time']).astype('timedelta64[s]')\n",
    "\n",
    "dse49['time_delta'] = pd.to_timedelta(dse49['time_delta']).astype('timedelta64[s]')\n",
    "dse49 = dse49.loc[(dse49['time_delta'] > 500) & (dse49['time_delta'] < 3600)]\n",
    "#d49['delay'] = (d49['recorded_at_time'] - d49['next_predicted_arrival_time']).astype('timedelta64[s]')\n",
    "\n",
    "dse48['time_delta'] = pd.to_timedelta(dse48['time_delta']).astype('timedelta64[s]')\n",
    "dse48 = dse48.loc[(dse48['time_delta'] > 500) & (dse48['time_delta'] < 3600)]\n",
    "#d48['delay'] = (d48['recorded_at_time'] - d48['next_predicted_arrival_time']).astype('timedelta64[s]')\n",
    "\n",
    "dse50['time_delta'] = pd.to_timedelta(dse50['time_delta']).astype('timedelta64[s]')\n",
    "dse50 = dse50.loc[(dse50['time_delta'] > 500) & (dse50['time_delta'] < 3600)]\n",
    "#d50['delay'] = (d50['recorded_at_time'] - d50['next_predicted_arrival_time']).astype('timedelta64[s]')\n",
    "\n",
    "dse53['time_delta'] = pd.to_timedelta(dse53['time_delta']).astype('timedelta64[s]')\n",
    "dse53 = dse53.loc[(dse53['time_delta'] > 500) & (dse53['time_delta'] < 3600)]\n",
    "#d53['delay'] = (d53['recorded_at_time'] - d53['next_predicted_arrival_time']).astype('timedelta64[s]')\n",
    "\n",
    "dse46['time_delta'] = pd.to_timedelta(dse46['time_delta']).astype('timedelta64[s]')\n",
    "dse46 = dse46.loc[(dse46['time_delta'] > 500) & (dse46['time_delta'] < 3600)]\n",
    "#d46['delay'] = (d46['recorded_at_time'] - d46['next_predicted_arrival_time']).astype('timedelta64[s]')\n",
    "\n",
    "dse45['time_delta'] = pd.to_timedelta(dse45['time_delta']).astype('timedelta64[s]')\n",
    "dse45 = dse45.loc[(dse45['time_delta'] > 500) & (dse45['time_delta'] < 3600)]\n",
    "#d45['delay'] = (d45['recorded_at_time'] - d45['next_predicted_arrival_time']).astype('timedelta64[s]')\n",
    "\n",
    "dse72['time_delta'] = pd.to_timedelta(dse72['time_delta']).astype('timedelta64[s]')\n",
    "dse72 = dse72.loc[(dse72['time_delta'] > 500) & (dse72['time_delta'] < 3600)]\n",
    "#d72['delay'] = (d72['recorded_at_time'] - d72['next_predicted_arrival_time']).astype('timedelta64[s]')\n",
    "\n",
    "dse55['time_delta'] = pd.to_timedelta(dse55['time_delta']).astype('timedelta64[s]')\n",
    "dse55 = dse55.loc[(dse55['time_delta'] > 500) & (dse55['time_delta'] < 3600)]\n",
    "#d55['delay'] = (d55['recorded_at_time'] - d55['next_predicted_arrival_time']).astype('timedelta64[s]')\n",
    "\n",
    "dse63['time_delta'] = pd.to_timedelta(dse63['time_delta']).astype('timedelta64[s]')\n",
    "dse63 = dse63.loc[(dse63['time_delta'] > 500) & (dse63['time_delta'] < 3600)]\n",
    "#d63['delay'] = (d63['recorded_at_time'] - d63['next_predicted_arrival_time']).astype('timedelta64[s]')"
   ]
  },
  {
   "cell_type": "code",
   "execution_count": 34,
   "metadata": {},
   "outputs": [],
   "source": [
    "dsebus = pd.concat([dse51, dse49, dse48, dse50, dse53, dse46, dse45, dse72, dse55, dse63], ignore_index=True)"
   ]
  },
  {
   "cell_type": "markdown",
   "metadata": {},
   "source": [
    "# Calculate duration of route by time intervals"
   ]
  },
  {
   "cell_type": "code",
   "execution_count": 35,
   "metadata": {},
   "outputs": [],
   "source": [
    "avg_time = dsebus.groupby(['TIMEINT']).mean()"
   ]
  },
  {
   "cell_type": "code",
   "execution_count": 36,
   "metadata": {},
   "outputs": [],
   "source": [
    "avg_time = avg_time[['time_delta']].reset_index()"
   ]
  },
  {
   "cell_type": "code",
   "execution_count": 37,
   "metadata": {},
   "outputs": [],
   "source": [
    "avg_time['Duration_in_mins'] = avg_time['time_delta'] / 60"
   ]
  },
  {
   "cell_type": "code",
   "execution_count": 38,
   "metadata": {
    "scrolled": true
   },
   "outputs": [
    {
     "data": {
      "text/html": [
       "<div>\n",
       "<table border=\"1\" class=\"dataframe\">\n",
       "  <thead>\n",
       "    <tr style=\"text-align: right;\">\n",
       "      <th></th>\n",
       "      <th>TIMEINT</th>\n",
       "      <th>time_delta</th>\n",
       "      <th>Duration_in_mins</th>\n",
       "    </tr>\n",
       "  </thead>\n",
       "  <tbody>\n",
       "    <tr>\n",
       "      <th>0</th>\n",
       "      <td>1</td>\n",
       "      <td>2172.923077</td>\n",
       "      <td>36.215385</td>\n",
       "    </tr>\n",
       "    <tr>\n",
       "      <th>1</th>\n",
       "      <td>2</td>\n",
       "      <td>2664.772727</td>\n",
       "      <td>44.412879</td>\n",
       "    </tr>\n",
       "    <tr>\n",
       "      <th>2</th>\n",
       "      <td>3</td>\n",
       "      <td>3053.125000</td>\n",
       "      <td>50.885417</td>\n",
       "    </tr>\n",
       "    <tr>\n",
       "      <th>3</th>\n",
       "      <td>4</td>\n",
       "      <td>2599.250000</td>\n",
       "      <td>43.320833</td>\n",
       "    </tr>\n",
       "  </tbody>\n",
       "</table>\n",
       "</div>"
      ],
      "text/plain": [
       "  TIMEINT   time_delta  Duration_in_mins\n",
       "0       1  2172.923077         36.215385\n",
       "1       2  2664.772727         44.412879\n",
       "2       3  3053.125000         50.885417\n",
       "3       4  2599.250000         43.320833"
      ]
     },
     "execution_count": 38,
     "metadata": {},
     "output_type": "execute_result"
    }
   ],
   "source": [
    "avg_time"
   ]
  }
 ],
 "metadata": {
  "kernelspec": {
   "display_name": "PUI2016_Python2",
   "language": "python",
   "name": "pui2016_python2"
  },
  "language_info": {
   "codemirror_mode": {
    "name": "ipython",
    "version": 2
   },
   "file_extension": ".py",
   "mimetype": "text/x-python",
   "name": "python",
   "nbconvert_exporter": "python",
   "pygments_lexer": "ipython2",
   "version": "2.7.12"
  }
 },
 "nbformat": 4,
 "nbformat_minor": 2
}
