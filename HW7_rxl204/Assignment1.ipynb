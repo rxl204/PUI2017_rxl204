{
 "cells": [
  {
   "cell_type": "markdown",
   "metadata": {},
   "source": [
    "# Citibike Analysis\n",
    "You should design your own investigation into the citibike data.\n",
    "\n",
    "- Come up with a question about the Citibike data usage. It can be anything that involves Categorical data. At this point of the class it is easier to run tests of proportions or similar, and work with categorical data. Categorical can be anything that can be put into classes (e.g. day/night, male/female, 2014/2015/2016.... as long as you set up your experiment the proper way!)\n",
    "- Choose the significance threshold\n",
    "- Clearly state they Null and Alternate hypothesis\n",
    "- Wrangle the data so that it is ready for your analysis.\n"
   ]
  },
  {
   "cell_type": "markdown",
   "metadata": {},
   "source": [
    "# Hypothesis:\n",
    "Revising idea after considering suggestions by Hong Kai (hh1827).\n",
    "## Idea: More subscribers are likely to choose biking on weekdays compared to customers\n",
    "\n",
    "#### Null hypothesis: The ratio of customers riding over weekend to riding weekday is same or less than the ratio of subscribers riding on weekends over weekday.\n",
    "\n",
    "#### Alternative hypothesis: The ratio of customers riding over weekend to riding weekday is more than the ratio of subscribers riding on weekends over weekday.\n",
    "\n",
    "#### Significance level: 0.05\n",
    "\n",
    "- Rephrased idea to more accurately reflect the hypothesis I wanted to test. Rephased null hypothesis to reflect the opposite of the idea, added alternative hypothesis that was missing previously.\n",
    "- Adding previously missing formulas: \n",
    "### H0: Customers_weekends/Customers_weekdays <= Subscribers_weekends/Subscribers_weekdays \n",
    "### H1: Customers_weekends/Customers_weekdays > Subscribers_weekends/Subscribers_weekdays"
   ]
  },
  {
   "cell_type": "code",
   "execution_count": 1,
   "metadata": {
    "collapsed": false
   },
   "outputs": [
    {
     "name": "stdout",
     "output_type": "stream",
     "text": [
      "Populating the interactive namespace from numpy and matplotlib\n",
      "Must set env variable PUI2017\n"
     ]
    },
    {
     "name": "stderr",
     "output_type": "stream",
     "text": [
      "/opt/rh/anaconda/root/envs/PUI2016_Python2/lib/python2.7/site-packages/IPython/html.py:14: ShimWarning: The `IPython.html` package has been deprecated. You should import from `notebook` instead. `IPython.html.widgets` has moved to `ipywidgets`.\n",
      "  \"`IPython.html.widgets` has moved to `ipywidgets`.\", ShimWarning)\n"
     ]
    }
   ],
   "source": [
    "from __future__  import print_function, division\n",
    "import pylab as pl\n",
    "import pandas as pd\n",
    "import numpy as np\n",
    "import os\n",
    "import seaborn as sns\n",
    "\n",
    "\n",
    "%pylab inline\n",
    "\n",
    "if os.getenv ('PUI2017') is None:\n",
    "    print (\"Must set env variable PUI2017\")\n",
    "if os.getenv ('PUIDATA') is None:\n",
    "    print (\"Must set env variable PUI2017\")\n",
    "\n",
    "import os\n",
    "import json"
   ]
  },
  {
   "cell_type": "code",
   "execution_count": 2,
   "metadata": {
    "collapsed": false
   },
   "outputs": [
    {
     "data": {
      "text/plain": [
       "'/home/cusp/rxl204/PUIdata'"
      ]
     },
     "execution_count": 2,
     "metadata": {},
     "output_type": "execute_result"
    }
   ],
   "source": [
    "os.getenv('PUIDATA')"
   ]
  },
  {
   "cell_type": "code",
   "execution_count": 3,
   "metadata": {
    "collapsed": true
   },
   "outputs": [],
   "source": [
    "def getCitiBikeCSV(datestring):\n",
    "    print (\"Downloading\", datestring)\n",
    "    ### First I will check that it is not already there\n",
    "    if not os.path.isfile(os.getenv(\"PUIDATA\") + \"/\" + datestring + \"-citibike-tripdata.csv\"):\n",
    "        if os.path.isfile(datestring + \"-citibike-tripdata.csv\"):\n",
    "            # if in the current dir just move it\n",
    "            if os.system(\"mv \" + datestring + \"-citibike-tripdata.csv \" + os.getenv(\"PUIDATA\")):\n",
    "                print (\"Error moving file!, Please check!\")\n",
    "        #otherwise start looking for the zip file\n",
    "        else:\n",
    "            if not os.path.isfile(os.getenv(\"PUIDATA\") + \"/\" + datestring + \"-citibike-tripdata.zip\"):\n",
    "                if not os.path.isfile(datestring + \"-citibike-tripdata.zip\"):\n",
    "                    os.system(\"curl -O https://s3.amazonaws.com/tripdata/\" + datestring + \"-citibike-tripdata.zip\")\n",
    "                ###  To move it I use the os.system() functions to run bash commands with arguments\n",
    "                os.system(\"mv \" + datestring + \"-citibike-tripdata.zip \" + os.getenv(\"PUIDATA\"))\n",
    "            ### unzip the csv \n",
    "            os.system(\"unzip \" + os.getenv(\"PUIDATA\") + \"/\" + datestring + \"-citibike-tripdata.zip\")\n",
    "            ## NOTE: old csv citibike data had a different name structure. \n",
    "            if '2014' in datestring:\n",
    "                os.system(\"mv \" + datestring[:4] + '-' +  datestring[4:] + \n",
    "                          \"\\ -\\ Citi\\ Bike\\ trip\\ data.csv \" + datestring + \"-citibike-tripdata.csv\")\n",
    "            os.system(\"mv \" + datestring + \"-citibike-tripdata.csv \" + os.getenv(\"PUIDATA\"))\n",
    "    ### One final check:\n",
    "    if not os.path.isfile(os.getenv(\"PUIDATA\") + \"/\" + datestring + \"-citibike-tripdata.csv\"):\n",
    "        print (\"WARNING!!! something is wrong: the file is not there!\")\n",
    "\n",
    "    else:\n",
    "        print (\"file in place, you can continue\")"
   ]
  },
  {
   "cell_type": "code",
   "execution_count": 4,
   "metadata": {
    "collapsed": false
   },
   "outputs": [
    {
     "name": "stdout",
     "output_type": "stream",
     "text": [
      "Downloading 201503\n",
      "file in place, you can continue\n"
     ]
    }
   ],
   "source": [
    "datestring = '201503'\n",
    "getCitiBikeCSV(datestring)"
   ]
  },
  {
   "cell_type": "code",
   "execution_count": 5,
   "metadata": {
    "collapsed": false
   },
   "outputs": [
    {
     "data": {
      "text/html": [
       "<div>\n",
       "<table border=\"1\" class=\"dataframe\">\n",
       "  <thead>\n",
       "    <tr style=\"text-align: right;\">\n",
       "      <th></th>\n",
       "      <th>tripduration</th>\n",
       "      <th>starttime</th>\n",
       "      <th>stoptime</th>\n",
       "      <th>start station id</th>\n",
       "      <th>start station name</th>\n",
       "      <th>start station latitude</th>\n",
       "      <th>start station longitude</th>\n",
       "      <th>end station id</th>\n",
       "      <th>end station name</th>\n",
       "      <th>end station latitude</th>\n",
       "      <th>end station longitude</th>\n",
       "      <th>bikeid</th>\n",
       "      <th>usertype</th>\n",
       "      <th>birth year</th>\n",
       "      <th>gender</th>\n",
       "      <th>date</th>\n",
       "    </tr>\n",
       "  </thead>\n",
       "  <tbody>\n",
       "    <tr>\n",
       "      <th>0</th>\n",
       "      <td>669</td>\n",
       "      <td>3/1/2015 0:00</td>\n",
       "      <td>3/1/2015 0:11</td>\n",
       "      <td>164</td>\n",
       "      <td>E 47 St &amp; 2 Ave</td>\n",
       "      <td>40.753231</td>\n",
       "      <td>-73.970325</td>\n",
       "      <td>477</td>\n",
       "      <td>W 41 St &amp; 8 Ave</td>\n",
       "      <td>40.756405</td>\n",
       "      <td>-73.990026</td>\n",
       "      <td>21409</td>\n",
       "      <td>Subscriber</td>\n",
       "      <td>1987.0</td>\n",
       "      <td>1</td>\n",
       "      <td>2015-03-01 00:00:00</td>\n",
       "    </tr>\n",
       "    <tr>\n",
       "      <th>1</th>\n",
       "      <td>750</td>\n",
       "      <td>3/1/2015 0:01</td>\n",
       "      <td>3/1/2015 0:14</td>\n",
       "      <td>258</td>\n",
       "      <td>DeKalb Ave &amp; Vanderbilt Ave</td>\n",
       "      <td>40.689407</td>\n",
       "      <td>-73.968855</td>\n",
       "      <td>436</td>\n",
       "      <td>Hancock St &amp; Bedford Ave</td>\n",
       "      <td>40.682166</td>\n",
       "      <td>-73.953990</td>\n",
       "      <td>19397</td>\n",
       "      <td>Subscriber</td>\n",
       "      <td>1968.0</td>\n",
       "      <td>1</td>\n",
       "      <td>2015-03-01 00:01:00</td>\n",
       "    </tr>\n",
       "    <tr>\n",
       "      <th>2</th>\n",
       "      <td>663</td>\n",
       "      <td>3/1/2015 0:01</td>\n",
       "      <td>3/1/2015 0:12</td>\n",
       "      <td>497</td>\n",
       "      <td>E 17 St &amp; Broadway</td>\n",
       "      <td>40.737050</td>\n",
       "      <td>-73.990093</td>\n",
       "      <td>477</td>\n",
       "      <td>W 41 St &amp; 8 Ave</td>\n",
       "      <td>40.756405</td>\n",
       "      <td>-73.990026</td>\n",
       "      <td>20998</td>\n",
       "      <td>Customer</td>\n",
       "      <td>NaN</td>\n",
       "      <td>0</td>\n",
       "      <td>2015-03-01 00:01:00</td>\n",
       "    </tr>\n",
       "    <tr>\n",
       "      <th>3</th>\n",
       "      <td>480</td>\n",
       "      <td>3/1/2015 0:02</td>\n",
       "      <td>3/1/2015 0:10</td>\n",
       "      <td>470</td>\n",
       "      <td>W 20 St &amp; 8 Ave</td>\n",
       "      <td>40.743453</td>\n",
       "      <td>-74.000040</td>\n",
       "      <td>491</td>\n",
       "      <td>E 24 St &amp; Park Ave S</td>\n",
       "      <td>40.740964</td>\n",
       "      <td>-73.986022</td>\n",
       "      <td>21565</td>\n",
       "      <td>Subscriber</td>\n",
       "      <td>1983.0</td>\n",
       "      <td>1</td>\n",
       "      <td>2015-03-01 00:02:00</td>\n",
       "    </tr>\n",
       "    <tr>\n",
       "      <th>4</th>\n",
       "      <td>1258</td>\n",
       "      <td>3/1/2015 0:02</td>\n",
       "      <td>3/1/2015 0:23</td>\n",
       "      <td>345</td>\n",
       "      <td>W 13 St &amp; 6 Ave</td>\n",
       "      <td>40.736494</td>\n",
       "      <td>-73.997044</td>\n",
       "      <td>473</td>\n",
       "      <td>Rivington St &amp; Chrystie St</td>\n",
       "      <td>40.721101</td>\n",
       "      <td>-73.991925</td>\n",
       "      <td>14693</td>\n",
       "      <td>Subscriber</td>\n",
       "      <td>1970.0</td>\n",
       "      <td>1</td>\n",
       "      <td>2015-03-01 00:02:00</td>\n",
       "    </tr>\n",
       "  </tbody>\n",
       "</table>\n",
       "</div>"
      ],
      "text/plain": [
       "   tripduration      starttime       stoptime  start station id  \\\n",
       "0           669  3/1/2015 0:00  3/1/2015 0:11               164   \n",
       "1           750  3/1/2015 0:01  3/1/2015 0:14               258   \n",
       "2           663  3/1/2015 0:01  3/1/2015 0:12               497   \n",
       "3           480  3/1/2015 0:02  3/1/2015 0:10               470   \n",
       "4          1258  3/1/2015 0:02  3/1/2015 0:23               345   \n",
       "\n",
       "            start station name  start station latitude  \\\n",
       "0              E 47 St & 2 Ave               40.753231   \n",
       "1  DeKalb Ave & Vanderbilt Ave               40.689407   \n",
       "2           E 17 St & Broadway               40.737050   \n",
       "3              W 20 St & 8 Ave               40.743453   \n",
       "4              W 13 St & 6 Ave               40.736494   \n",
       "\n",
       "   start station longitude  end station id            end station name  \\\n",
       "0               -73.970325             477             W 41 St & 8 Ave   \n",
       "1               -73.968855             436    Hancock St & Bedford Ave   \n",
       "2               -73.990093             477             W 41 St & 8 Ave   \n",
       "3               -74.000040             491        E 24 St & Park Ave S   \n",
       "4               -73.997044             473  Rivington St & Chrystie St   \n",
       "\n",
       "   end station latitude  end station longitude  bikeid    usertype  \\\n",
       "0             40.756405             -73.990026   21409  Subscriber   \n",
       "1             40.682166             -73.953990   19397  Subscriber   \n",
       "2             40.756405             -73.990026   20998    Customer   \n",
       "3             40.740964             -73.986022   21565  Subscriber   \n",
       "4             40.721101             -73.991925   14693  Subscriber   \n",
       "\n",
       "   birth year  gender                date  \n",
       "0      1987.0       1 2015-03-01 00:00:00  \n",
       "1      1968.0       1 2015-03-01 00:01:00  \n",
       "2         NaN       0 2015-03-01 00:01:00  \n",
       "3      1983.0       1 2015-03-01 00:02:00  \n",
       "4      1970.0       1 2015-03-01 00:02:00  "
      ]
     },
     "execution_count": 5,
     "metadata": {},
     "output_type": "execute_result"
    }
   ],
   "source": [
    "df = pd.read_csv(os.getenv(\"PUIDATA\") + \"/\" + datestring + '-citibike-tripdata.csv')\n",
    "# df is the dataframe where the content of the csv file is stored\n",
    "df['date'] = pd.to_datetime(df['starttime'])\n",
    "# note that with dataframes I can refer to variables as dictionary keys, \n",
    "# i.e. df['starttime'] or as attributes: df.starttime. \n",
    "df.head()"
   ]
  },
  {
   "cell_type": "code",
   "execution_count": 6,
   "metadata": {
    "collapsed": false
   },
   "outputs": [
    {
     "data": {
      "text/plain": [
       "Index([u'tripduration', u'starttime', u'stoptime', u'start station id',\n",
       "       u'start station name', u'start station latitude',\n",
       "       u'start station longitude', u'end station id', u'end station name',\n",
       "       u'end station latitude', u'end station longitude', u'bikeid',\n",
       "       u'usertype', u'birth year', u'gender', u'date'],\n",
       "      dtype='object')"
      ]
     },
     "execution_count": 6,
     "metadata": {},
     "output_type": "execute_result"
    }
   ],
   "source": [
    "df.columns"
   ]
  },
  {
   "cell_type": "code",
   "execution_count": 7,
   "metadata": {
    "collapsed": false
   },
   "outputs": [],
   "source": [
    "df.drop(['tripduration','starttime', 'stoptime', 'start station id',\n",
    "       'start station name', 'start station latitude',\n",
    "       'start station longitude', 'end station id', 'end station name',\n",
    "       'end station latitude', 'end station longitude', 'bikeid',\n",
    "       'birth year','gender'], axis=1, inplace=True)"
   ]
  },
  {
   "cell_type": "code",
   "execution_count": 8,
   "metadata": {
    "collapsed": false
   },
   "outputs": [
    {
     "data": {
      "text/html": [
       "<div>\n",
       "<table border=\"1\" class=\"dataframe\">\n",
       "  <thead>\n",
       "    <tr style=\"text-align: right;\">\n",
       "      <th></th>\n",
       "      <th>usertype</th>\n",
       "      <th>date</th>\n",
       "    </tr>\n",
       "  </thead>\n",
       "  <tbody>\n",
       "    <tr>\n",
       "      <th>0</th>\n",
       "      <td>Subscriber</td>\n",
       "      <td>2015-03-01 00:00:00</td>\n",
       "    </tr>\n",
       "    <tr>\n",
       "      <th>1</th>\n",
       "      <td>Subscriber</td>\n",
       "      <td>2015-03-01 00:01:00</td>\n",
       "    </tr>\n",
       "    <tr>\n",
       "      <th>2</th>\n",
       "      <td>Customer</td>\n",
       "      <td>2015-03-01 00:01:00</td>\n",
       "    </tr>\n",
       "    <tr>\n",
       "      <th>3</th>\n",
       "      <td>Subscriber</td>\n",
       "      <td>2015-03-01 00:02:00</td>\n",
       "    </tr>\n",
       "    <tr>\n",
       "      <th>4</th>\n",
       "      <td>Subscriber</td>\n",
       "      <td>2015-03-01 00:02:00</td>\n",
       "    </tr>\n",
       "  </tbody>\n",
       "</table>\n",
       "</div>"
      ],
      "text/plain": [
       "     usertype                date\n",
       "0  Subscriber 2015-03-01 00:00:00\n",
       "1  Subscriber 2015-03-01 00:01:00\n",
       "2    Customer 2015-03-01 00:01:00\n",
       "3  Subscriber 2015-03-01 00:02:00\n",
       "4  Subscriber 2015-03-01 00:02:00"
      ]
     },
     "execution_count": 8,
     "metadata": {},
     "output_type": "execute_result"
    }
   ],
   "source": [
    "df.head()"
   ]
  },
  {
   "cell_type": "code",
   "execution_count": 9,
   "metadata": {
    "collapsed": false
   },
   "outputs": [
    {
     "data": {
      "text/html": [
       "<div>\n",
       "<table border=\"1\" class=\"dataframe\">\n",
       "  <thead>\n",
       "    <tr style=\"text-align: right;\">\n",
       "      <th></th>\n",
       "      <th>usertype</th>\n",
       "      <th>date</th>\n",
       "    </tr>\n",
       "  </thead>\n",
       "  <tbody>\n",
       "    <tr>\n",
       "      <th>0</th>\n",
       "      <td>1</td>\n",
       "      <td>2015-03-01 00:00:00</td>\n",
       "    </tr>\n",
       "    <tr>\n",
       "      <th>1</th>\n",
       "      <td>1</td>\n",
       "      <td>2015-03-01 00:01:00</td>\n",
       "    </tr>\n",
       "    <tr>\n",
       "      <th>2</th>\n",
       "      <td>0</td>\n",
       "      <td>2015-03-01 00:01:00</td>\n",
       "    </tr>\n",
       "    <tr>\n",
       "      <th>3</th>\n",
       "      <td>1</td>\n",
       "      <td>2015-03-01 00:02:00</td>\n",
       "    </tr>\n",
       "    <tr>\n",
       "      <th>4</th>\n",
       "      <td>1</td>\n",
       "      <td>2015-03-01 00:02:00</td>\n",
       "    </tr>\n",
       "  </tbody>\n",
       "</table>\n",
       "</div>"
      ],
      "text/plain": [
       "   usertype                date\n",
       "0         1 2015-03-01 00:00:00\n",
       "1         1 2015-03-01 00:01:00\n",
       "2         0 2015-03-01 00:01:00\n",
       "3         1 2015-03-01 00:02:00\n",
       "4         1 2015-03-01 00:02:00"
      ]
     },
     "execution_count": 9,
     "metadata": {},
     "output_type": "execute_result"
    }
   ],
   "source": [
    "#reassigning customer as 0 and subscriber as 1\n",
    "df.usertype = df.usertype.replace('Customer', 0)\n",
    "df.usertype = df.usertype.replace('Subscriber', 1)\n",
    "df.head()"
   ]
  },
  {
   "cell_type": "code",
   "execution_count": 10,
   "metadata": {
    "collapsed": false
   },
   "outputs": [
    {
     "data": {
      "text/plain": [
       "<matplotlib.text.Text at 0x7f58e0848d10>"
      ]
     },
     "execution_count": 10,
     "metadata": {},
     "output_type": "execute_result"
    },
    {
     "data": {
      "image/png": "[encoded data removed]",
      "text/plain": [
       "<matplotlib.figure.Figure at 0x7f58e0876950>"
      ]
     },
     "metadata": {},
     "output_type": "display_data"
    }
   ],
   "source": [
    "#plotting number of trips per day by user type\n",
    "fig = pl.figure(figsize(8,8))\n",
    "\n",
    "#instad of plotting with matplotlib i.e. plot() i use the plot method in pandas\n",
    "norm_c = 1\n",
    "((df['date'][df['usertype'] == 0].groupby([df['date'].dt.weekday]).count()) / norm_c).plot(kind=\"bar\", \n",
    "                                                                                         color='IndianRed', \n",
    "                                                                                         label='Customer')\n",
    "\n",
    "norm_s = 1\n",
    "ax = ((df['date'][df['usertype'] == 1].groupby([df['date'].dt.weekday]).count()) / norm_s).plot(kind=\"bar\", \n",
    "                                                                                              color='SteelBlue', \n",
    "                                                                                              alpha=0.5,\n",
    "                                                                                              label='Subscriber')\n",
    "\n",
    "tmp = ax.xaxis.set_ticklabels(['Mon', 'Tue', 'Wed', 'Thu', 'Fri', 'Sat', 'Sun'], fontsize=15)\n",
    "pl.legend()\n",
    "pl.xlabel('Days of week', fontsize=15)\n",
    "pl.ylabel('Number of rides', fontsize=15)\n",
    "pl.title('Distribution of Citibike Users by User Type in March 2015', fontsize=15)"
   ]
  },
  {
   "cell_type": "markdown",
   "metadata": {},
   "source": [
    "Figure 1: Distribution of Citibike bikers by user type in March 2015, absolute counts\n",
    "\n",
    "From the absolute counts of citibike users, it is revealed that there are more subscribers than customers using the service. However, ridership decreases across the week, with the lowest number of subscribers using the citibike on weekends. "
   ]
  },
  {
   "cell_type": "code",
   "execution_count": 11,
   "metadata": {
    "collapsed": false
   },
   "outputs": [
    {
     "data": {
      "text/plain": [
       "<matplotlib.text.Text at 0x7f58e06727d0>"
      ]
     },
     "execution_count": 11,
     "metadata": {},
     "output_type": "execute_result"
    },
    {
     "data": {
      "image/png": "[encoded data removed]",
      "text/plain": [
       "<matplotlib.figure.Figure at 0x7f58e07c8950>"
      ]
     },
     "metadata": {},
     "output_type": "display_data"
    }
   ],
   "source": [
    "\n",
    "fig=pl.figure(figsize(8,8))\n",
    "\n",
    "counts_c = df.date[df.usertype == 0].groupby([df.date.dt.weekday]).count()\n",
    "norm_c = 1\n",
    "error_c = np.sqrt(counts_c)\n",
    "ax=((counts_c) / norm_c).plot(kind=\"bar\",color='IndianRed',  yerr=[\n",
    "            ((error_c) / norm_c, (error_c) / norm_c)], label='customer')\n",
    "\n",
    "\n",
    "counts_s = df.date[df.usertype==1].groupby([df.date.dt.weekday]).count()\n",
    "norm_s = 1\n",
    "error_s=np.sqrt(counts_s)\n",
    "((counts_s) / norm_s).plot(kind=\"bar\", alpha=0.5, yerr=[((error_s) / norm_s, (error_s) / norm_s)], \n",
    "                           color='SteelBlue', label='subscriber')\n",
    "ax.xaxis.set_ticklabels(['Mon','Tue','Wed','Thu','Fri','Sat','Sun'], fontsize=15)\n",
    "ax.set_ylabel (\"Number of rides\", fontsize=15)\n",
    "ax.set_xlabel (\"Day of the week\", fontsize=15)\n",
    "pl.legend(['customer','subscriber'],fontsize=15)\n",
    "pl.title('Distribution of Citibike riders by User Type in March 2015, with Statistical Errors', fontsize=15)"
   ]
  },
  {
   "cell_type": "markdown",
   "metadata": {},
   "source": [
    "Figure 2: Distribution of Citibike bikers by user type in March 2015, absolute counts with statistical errors"
   ]
  },
  {
   "cell_type": "code",
   "execution_count": 12,
   "metadata": {
    "collapsed": false
   },
   "outputs": [
    {
     "data": {
      "text/plain": [
       "<matplotlib.text.Text at 0x7f58e0592690>"
      ]
     },
     "execution_count": 12,
     "metadata": {},
     "output_type": "execute_result"
    },
    {
     "data": {
      "image/png": "[encoded data removed]",
      "text/plain": [
       "<matplotlib.figure.Figure at 0x7f58e1570b50>"
      ]
     },
     "metadata": {},
     "output_type": "display_data"
    }
   ],
   "source": [
    "#difficult to compare absolute numbers, normalise the distribution of subscibers and customers \n",
    "fig = pl.figure(figsize=(8,8))\n",
    "\n",
    "norm_c = counts_c.sum()\n",
    "error_c = np.sqrt(counts_c)\n",
    "((counts_c) / norm_c).plot(kind=\"bar\", color='IndianRed',  \n",
    "                           yerr=[((error_c) / norm_c, (error_c) / norm_c)], \n",
    "                           label='Customers')\n",
    "\n",
    "norm_s = counts_s.sum()\n",
    "ax = ((counts_s) / norm_s).plot(kind=\"bar\", alpha=0.5, \n",
    "                                yerr=[((error_s) / norm_s, (error_s) / norm_s)], \n",
    "                                color='SteelBlue', label='Subscribers')\n",
    "\n",
    "ax.xaxis.set_ticklabels(['Mon', 'Tue', 'Wed', 'Thu', 'Fri', 'Sat', 'Sun'], fontsize=15)\n",
    "ax.set_ylabel (\"Fraction of rides\", fontsize=15)\n",
    "ax.set_xlabel (\"Day of the week\", fontsize=15)\n",
    "\n",
    "pl.legend(['customers','subscribers'],fontsize=10, loc='upper left')\n",
    "pl.title('Normalised Distribution of Citibike Users by User Type in March, 2015', fontsize=15)"
   ]
  },
  {
   "cell_type": "markdown",
   "metadata": {
    "collapsed": false
   },
   "source": [
    "Figure 3: Distribution of Citibike bikers by gender in January 2015, normalized\n",
    "\n",
    "From the normalized plot, we can see that the fraction of subscribers using the citibikes is higher on weekdays, while the fraction of customers using the bikes are higher on weekends. "
   ]
  },
  {
   "cell_type": "markdown",
   "metadata": {
    "collapsed": false
   },
   "source": [
    "## Set up the test of proportions\n",
    "I need the fraction of customers that bikes during the weekdays and the fraction that bikes during weekends, and the same for subscribers"
   ]
  },
  {
   "cell_type": "code",
   "execution_count": 13,
   "metadata": {
    "collapsed": false
   },
   "outputs": [
    {
     "name": "stdout",
     "output_type": "stream",
     "text": [
      "Subscriber: week:0.833, weekend:0.167, weekend error:0.002, weekend error:0.001\n",
      "Customer: week:0.675, weekend:0.325, weekend error:0.007, weekend error:0.005\n"
     ]
    },
    {
     "data": {
      "text/plain": [
       "<matplotlib.legend.Legend at 0x7f58e042d310>"
      ]
     },
     "execution_count": 13,
     "metadata": {},
     "output_type": "execute_result"
    },
    {
     "data": {
      "image/png": "[encoded data removed]",
      "text/plain": [
       "<matplotlib.figure.Figure at 0x7f58e0492d90>"
      ]
     },
     "metadata": {},
     "output_type": "display_data"
    }
   ],
   "source": [
    "fig = pl.figure(figsize(15,6))\n",
    "ax1 = fig.add_subplot(121)\n",
    "ax2 = fig.add_subplot(122)\n",
    "ax1.set_xticks([])\n",
    "ax2.set_xticks([])\n",
    "\n",
    "week_c = sum(counts_c[:-2]) * 1.0 / norm_c  #fraction of customers riding on week days\n",
    "weekend_c = sum(counts_c[-2:]) * 1.0 / norm_c  #fraction of customers riding on weekends\n",
    "eweek_c = np.sqrt(sum(error_c[:-2]**2)) / norm_c  #error on fraction number of customers riding on week days\n",
    "eweekend_c = np.sqrt(sum(error_c[-2:]**2)) / norm_c #error on fraction number of customers riding on weekends\n",
    "\n",
    "#same nomenclature as above\n",
    "week_s = sum(counts_s[:-2]) * 1.0 / norm_s\n",
    "weekend_s = sum(counts_s[-2:]) * 1.0 / norm_s\n",
    "eweek_s = np.sqrt(sum(error_s[:-2]**2)) / norm_s\n",
    "eweekend_s = np.sqrt(sum(error_s[-2:]**2)) / norm_s\n",
    "\n",
    "print(\"Subscriber: week:{0:.3f}, weekend:{1:.3f}, weekend error:{2:.3f}, weekend error:{3:.3f}\"\\\n",
    "      .format(week_s, weekend_s, eweek_s, eweekend_s))\n",
    "print(\"Customer: week:{0:.3f}, weekend:{1:.3f}, weekend error:{2:.3f}, weekend error:{3:.3f}\"\\\n",
    "      .format(week_c, weekend_c, eweek_c, eweekend_c))\n",
    "\n",
    "ax1.errorbar([0.4], [week_s], yerr=[eweek_s], fmt='o', label='Subscriber')\n",
    "ax1.errorbar([0.2], [week_c], yerr=[eweek_c], fmt='o', label='Customer')\n",
    "ax1.set_xlim(0, 0.5)\n",
    "ax2.errorbar([0.4], [weekend_s], yerr=[eweekend_s], fmt='o', label='Subscriber')\n",
    "ax2.errorbar([0.2], [weekend_c], yerr=[eweekend_c], fmt='o', label='Customer')\n",
    "ax1.set_xlim(0, 0.5)\n",
    "ax1.set_title(\"week days\", fontsize=15)\n",
    "ax2.set_title(\"weekends\", fontsize=15)\n",
    "ax2.set_ylabel(\"Fraction of normalized rides by user type\", fontsize=15)\n",
    "ax1.set_ylabel(\"Fraction of normalized rides by user type\", fontsize=15)\n",
    "\n",
    "pl.xlim(-0.5, 1.5)\n",
    "pl.legend(fontsize = 20)"
   ]
  },
  {
   "cell_type": "markdown",
   "metadata": {
    "collapsed": true
   },
   "source": [
    "Figure 4: Fraction of Citibike bikers per user type in March 2015 for week days (left) and weekends (right)"
   ]
  },
  {
   "cell_type": "code",
   "execution_count": 14,
   "metadata": {
    "collapsed": false
   },
   "outputs": [
    {
     "name": "stdout",
     "output_type": "stream",
     "text": [
      "difference between customers and subscribers on weekend:  0.157804571088\n",
      "We must check the significance before we reject the Null Hypothesis\n"
     ]
    }
   ],
   "source": [
    "#checking if the percentage of customers riding on weekends is less than subscribers\n",
    "\n",
    "P0mP1 = weekend_c - weekend_s\n",
    "print (\"difference between customers and subscribers on weekend: \", P0mP1)\n",
    "if P0mP1 <= 0:\n",
    "    # we are done...\n",
    "    print(\"In accordance with Null Hypothesis\")\n",
    "else:\n",
    "    # morework to do\n",
    "    print (\"We must check the significance before we reject the Null Hypothesis\")\n"
   ]
  },
  {
   "cell_type": "markdown",
   "metadata": {},
   "source": [
    "Since male and female are two unpaired categorical variables, and there are only 2 groups, according to figure 1 in the article, Chi Squared Test is chosen for this hypothesis testing.\n",
    "\n"
   ]
  },
  {
   "cell_type": "code",
   "execution_count": 15,
   "metadata": {
    "collapsed": true
   },
   "outputs": [],
   "source": [
    "from __future__ import print_function, division\n",
    "import numpy as np\n",
    "\n",
    "\n",
    "def evalChisq(values):\n",
    "    '''Evaluates the chi sq from a contingency value\n",
    "    Arguments:\n",
    "    values: 2x2 array or list, the contingengy table\n",
    "    '''\n",
    "    if not (len(values.shape) == 2 and values.shape == (2,2)):\n",
    "        print (\"must pass a 2D array\")\n",
    "        return -1\n",
    "    values = np.array(values)\n",
    "    E = np.empty_like(values)\n",
    "    for j in range(len(values[0])):\n",
    "        for i in range(2):\n",
    "            \n",
    "            E[i][j] = ((values[i,:].sum() * values[:,j].sum()) / \n",
    "                        (values).sum())\n",
    "    return ((values - E)**2 / E).sum()"
   ]
  },
  {
   "cell_type": "code",
   "execution_count": 16,
   "metadata": {
    "collapsed": false
   },
   "outputs": [
    {
     "name": "stdout",
     "output_type": "stream",
     "text": [
      "chi sq statistics for \"null\": chisq = 2154.939, DOF = 1\n"
     ]
    }
   ],
   "source": [
    "val  = np.array([[week_c*norm_c, weekend_c*norm_c], [week_s*norm_s, weekend_s*norm_s]])\n",
    "chisq_val = evalChisq(val)\n",
    "DOF = len(val) - 1\n",
    "print ('chi sq statistics for \"null\": '+\n",
    "       'chisq = {:.3f}, DOF = {:d}'.format(chisq_val, DOF))"
   ]
  },
  {
   "cell_type": "code",
   "execution_count": 17,
   "metadata": {
    "collapsed": false
   },
   "outputs": [
    {
     "name": "stdout",
     "output_type": "stream",
     "text": [
      "The Null hypothesis that the ratio of customers riding over weekend to weekday is same or less than the ratio of subscirbers riding on weekends over weekdays,\n",
      "can be rejected at alpha = 0.05\n",
      "with a chi square statistics of 2154.94\n"
     ]
    }
   ],
   "source": [
    "chimin_alpha5pc = 3.84\n",
    "print (\"The Null hypothesis that the ratio of customers riding over weekend to weekday is same or less than the ratio of subscirbers riding on weekends over weekdays,\")\n",
    "if chisq_val > chimin_alpha5pc :\n",
    "    print (\"can be rejected at alpha = 0.05\")\n",
    "else: \n",
    "    print (\"cannot be rejected (p<0.05)\")\n",
    "print (\"with a chi square statistics of %.2f\"%chisq_val )"
   ]
  },
  {
   "cell_type": "markdown",
   "metadata": {},
   "source": [
    "The chi square statistics of 2154.94 exceeds 3.84 at the existing significance level of 0.05, the results are statistically significant, and we can reject the null hypothesis that the ratio of customers riding over weekend to riding weekday is same or less than the ratio of subscribers riding on weekends over weekday. This can also be observed from the Figure 2, where the distribution of customers on weekends far exceeds that of subscribers."
   ]
  },
  {
   "cell_type": "markdown",
   "metadata": {
    "collapsed": true
   },
   "source": [
    "## Checking robustness of data "
   ]
  },
  {
   "cell_type": "code",
   "execution_count": 18,
   "metadata": {
    "collapsed": false
   },
   "outputs": [
    {
     "name": "stdout",
     "output_type": "stream",
     "text": [
      "Downloading 201506\n",
      "file in place, you can continue\n"
     ]
    }
   ],
   "source": [
    "datestring = '201506'\n",
    "getCitiBikeCSV(datestring)"
   ]
  },
  {
   "cell_type": "code",
   "execution_count": 19,
   "metadata": {
    "collapsed": false
   },
   "outputs": [
    {
     "data": {
      "text/html": [
       "<div>\n",
       "<table border=\"1\" class=\"dataframe\">\n",
       "  <thead>\n",
       "    <tr style=\"text-align: right;\">\n",
       "      <th></th>\n",
       "      <th>tripduration</th>\n",
       "      <th>starttime</th>\n",
       "      <th>stoptime</th>\n",
       "      <th>start station id</th>\n",
       "      <th>start station name</th>\n",
       "      <th>start station latitude</th>\n",
       "      <th>start station longitude</th>\n",
       "      <th>end station id</th>\n",
       "      <th>end station name</th>\n",
       "      <th>end station latitude</th>\n",
       "      <th>end station longitude</th>\n",
       "      <th>bikeid</th>\n",
       "      <th>usertype</th>\n",
       "      <th>birth year</th>\n",
       "      <th>gender</th>\n",
       "      <th>date</th>\n",
       "    </tr>\n",
       "  </thead>\n",
       "  <tbody>\n",
       "    <tr>\n",
       "      <th>0</th>\n",
       "      <td>1338</td>\n",
       "      <td>6/1/2015 0:00</td>\n",
       "      <td>6/1/2015 0:22</td>\n",
       "      <td>128</td>\n",
       "      <td>MacDougal St &amp; Prince St</td>\n",
       "      <td>40.727103</td>\n",
       "      <td>-74.002971</td>\n",
       "      <td>2021</td>\n",
       "      <td>W 45 St &amp; 8 Ave</td>\n",
       "      <td>40.759291</td>\n",
       "      <td>-73.988597</td>\n",
       "      <td>20721</td>\n",
       "      <td>Subscriber</td>\n",
       "      <td>1984.0</td>\n",
       "      <td>1</td>\n",
       "      <td>2015-06-01 00:00:00</td>\n",
       "    </tr>\n",
       "    <tr>\n",
       "      <th>1</th>\n",
       "      <td>290</td>\n",
       "      <td>6/1/2015 0:00</td>\n",
       "      <td>6/1/2015 0:05</td>\n",
       "      <td>438</td>\n",
       "      <td>St Marks Pl &amp; 1 Ave</td>\n",
       "      <td>40.727791</td>\n",
       "      <td>-73.985649</td>\n",
       "      <td>312</td>\n",
       "      <td>Allen St &amp; E Houston St</td>\n",
       "      <td>40.722055</td>\n",
       "      <td>-73.989111</td>\n",
       "      <td>21606</td>\n",
       "      <td>Subscriber</td>\n",
       "      <td>1997.0</td>\n",
       "      <td>1</td>\n",
       "      <td>2015-06-01 00:00:00</td>\n",
       "    </tr>\n",
       "    <tr>\n",
       "      <th>2</th>\n",
       "      <td>634</td>\n",
       "      <td>6/1/2015 0:01</td>\n",
       "      <td>6/1/2015 0:11</td>\n",
       "      <td>383</td>\n",
       "      <td>Greenwich Ave &amp; Charles St</td>\n",
       "      <td>40.735238</td>\n",
       "      <td>-74.000271</td>\n",
       "      <td>388</td>\n",
       "      <td>W 26 St &amp; 10 Ave</td>\n",
       "      <td>40.749718</td>\n",
       "      <td>-74.002950</td>\n",
       "      <td>16595</td>\n",
       "      <td>Subscriber</td>\n",
       "      <td>1993.0</td>\n",
       "      <td>1</td>\n",
       "      <td>2015-06-01 00:01:00</td>\n",
       "    </tr>\n",
       "    <tr>\n",
       "      <th>3</th>\n",
       "      <td>159</td>\n",
       "      <td>6/1/2015 0:01</td>\n",
       "      <td>6/1/2015 0:04</td>\n",
       "      <td>361</td>\n",
       "      <td>Allen St &amp; Hester St</td>\n",
       "      <td>40.716059</td>\n",
       "      <td>-73.991908</td>\n",
       "      <td>531</td>\n",
       "      <td>Forsyth St &amp; Broome St</td>\n",
       "      <td>40.718939</td>\n",
       "      <td>-73.992663</td>\n",
       "      <td>16949</td>\n",
       "      <td>Subscriber</td>\n",
       "      <td>1981.0</td>\n",
       "      <td>1</td>\n",
       "      <td>2015-06-01 00:01:00</td>\n",
       "    </tr>\n",
       "    <tr>\n",
       "      <th>4</th>\n",
       "      <td>1233</td>\n",
       "      <td>6/1/2015 0:02</td>\n",
       "      <td>6/1/2015 0:22</td>\n",
       "      <td>382</td>\n",
       "      <td>University Pl &amp; E 14 St</td>\n",
       "      <td>40.734927</td>\n",
       "      <td>-73.992005</td>\n",
       "      <td>532</td>\n",
       "      <td>S 5 Pl &amp; S 4 St</td>\n",
       "      <td>40.710451</td>\n",
       "      <td>-73.960876</td>\n",
       "      <td>17028</td>\n",
       "      <td>Customer</td>\n",
       "      <td>NaN</td>\n",
       "      <td>0</td>\n",
       "      <td>2015-06-01 00:02:00</td>\n",
       "    </tr>\n",
       "  </tbody>\n",
       "</table>\n",
       "</div>"
      ],
      "text/plain": [
       "   tripduration      starttime       stoptime  start station id  \\\n",
       "0          1338  6/1/2015 0:00  6/1/2015 0:22               128   \n",
       "1           290  6/1/2015 0:00  6/1/2015 0:05               438   \n",
       "2           634  6/1/2015 0:01  6/1/2015 0:11               383   \n",
       "3           159  6/1/2015 0:01  6/1/2015 0:04               361   \n",
       "4          1233  6/1/2015 0:02  6/1/2015 0:22               382   \n",
       "\n",
       "           start station name  start station latitude  \\\n",
       "0    MacDougal St & Prince St               40.727103   \n",
       "1         St Marks Pl & 1 Ave               40.727791   \n",
       "2  Greenwich Ave & Charles St               40.735238   \n",
       "3        Allen St & Hester St               40.716059   \n",
       "4     University Pl & E 14 St               40.734927   \n",
       "\n",
       "   start station longitude  end station id         end station name  \\\n",
       "0               -74.002971            2021          W 45 St & 8 Ave   \n",
       "1               -73.985649             312  Allen St & E Houston St   \n",
       "2               -74.000271             388         W 26 St & 10 Ave   \n",
       "3               -73.991908             531   Forsyth St & Broome St   \n",
       "4               -73.992005             532          S 5 Pl & S 4 St   \n",
       "\n",
       "   end station latitude  end station longitude  bikeid    usertype  \\\n",
       "0             40.759291             -73.988597   20721  Subscriber   \n",
       "1             40.722055             -73.989111   21606  Subscriber   \n",
       "2             40.749718             -74.002950   16595  Subscriber   \n",
       "3             40.718939             -73.992663   16949  Subscriber   \n",
       "4             40.710451             -73.960876   17028    Customer   \n",
       "\n",
       "   birth year  gender                date  \n",
       "0      1984.0       1 2015-06-01 00:00:00  \n",
       "1      1997.0       1 2015-06-01 00:00:00  \n",
       "2      1993.0       1 2015-06-01 00:01:00  \n",
       "3      1981.0       1 2015-06-01 00:01:00  \n",
       "4         NaN       0 2015-06-01 00:02:00  "
      ]
     },
     "execution_count": 19,
     "metadata": {},
     "output_type": "execute_result"
    }
   ],
   "source": [
    "df_06 = pd.read_csv(os.getenv(\"PUIDATA\") + \"/\" + datestring + '-citibike-tripdata.csv')\n",
    "df_06['date'] = pd.to_datetime(df_06.starttime)\n",
    "df_06.head()\n"
   ]
  },
  {
   "cell_type": "code",
   "execution_count": 20,
   "metadata": {
    "collapsed": true
   },
   "outputs": [],
   "source": [
    "df_06.drop(['tripduration','starttime', 'stoptime', 'start station id',\n",
    "       'start station name', 'start station latitude',\n",
    "       'start station longitude', 'end station id', 'end station name',\n",
    "       'end station latitude', 'end station longitude', 'bikeid',\n",
    "       'birth year','gender'], axis=1, inplace=True)"
   ]
  },
  {
   "cell_type": "code",
   "execution_count": 21,
   "metadata": {
    "collapsed": false
   },
   "outputs": [
    {
     "data": {
      "text/html": [
       "<div>\n",
       "<table border=\"1\" class=\"dataframe\">\n",
       "  <thead>\n",
       "    <tr style=\"text-align: right;\">\n",
       "      <th></th>\n",
       "      <th>usertype</th>\n",
       "      <th>date</th>\n",
       "    </tr>\n",
       "  </thead>\n",
       "  <tbody>\n",
       "    <tr>\n",
       "      <th>0</th>\n",
       "      <td>Subscriber</td>\n",
       "      <td>2015-06-01 00:00:00</td>\n",
       "    </tr>\n",
       "    <tr>\n",
       "      <th>1</th>\n",
       "      <td>Subscriber</td>\n",
       "      <td>2015-06-01 00:00:00</td>\n",
       "    </tr>\n",
       "    <tr>\n",
       "      <th>2</th>\n",
       "      <td>Subscriber</td>\n",
       "      <td>2015-06-01 00:01:00</td>\n",
       "    </tr>\n",
       "    <tr>\n",
       "      <th>3</th>\n",
       "      <td>Subscriber</td>\n",
       "      <td>2015-06-01 00:01:00</td>\n",
       "    </tr>\n",
       "    <tr>\n",
       "      <th>4</th>\n",
       "      <td>Customer</td>\n",
       "      <td>2015-06-01 00:02:00</td>\n",
       "    </tr>\n",
       "  </tbody>\n",
       "</table>\n",
       "</div>"
      ],
      "text/plain": [
       "     usertype                date\n",
       "0  Subscriber 2015-06-01 00:00:00\n",
       "1  Subscriber 2015-06-01 00:00:00\n",
       "2  Subscriber 2015-06-01 00:01:00\n",
       "3  Subscriber 2015-06-01 00:01:00\n",
       "4    Customer 2015-06-01 00:02:00"
      ]
     },
     "execution_count": 21,
     "metadata": {},
     "output_type": "execute_result"
    }
   ],
   "source": [
    "df_06.head()"
   ]
  },
  {
   "cell_type": "code",
   "execution_count": 22,
   "metadata": {
    "collapsed": false
   },
   "outputs": [
    {
     "data": {
      "text/html": [
       "<div>\n",
       "<table border=\"1\" class=\"dataframe\">\n",
       "  <thead>\n",
       "    <tr style=\"text-align: right;\">\n",
       "      <th></th>\n",
       "      <th>usertype</th>\n",
       "      <th>date</th>\n",
       "    </tr>\n",
       "  </thead>\n",
       "  <tbody>\n",
       "    <tr>\n",
       "      <th>0</th>\n",
       "      <td>1</td>\n",
       "      <td>2015-06-01 00:00:00</td>\n",
       "    </tr>\n",
       "    <tr>\n",
       "      <th>1</th>\n",
       "      <td>1</td>\n",
       "      <td>2015-06-01 00:00:00</td>\n",
       "    </tr>\n",
       "    <tr>\n",
       "      <th>2</th>\n",
       "      <td>1</td>\n",
       "      <td>2015-06-01 00:01:00</td>\n",
       "    </tr>\n",
       "    <tr>\n",
       "      <th>3</th>\n",
       "      <td>1</td>\n",
       "      <td>2015-06-01 00:01:00</td>\n",
       "    </tr>\n",
       "    <tr>\n",
       "      <th>4</th>\n",
       "      <td>0</td>\n",
       "      <td>2015-06-01 00:02:00</td>\n",
       "    </tr>\n",
       "  </tbody>\n",
       "</table>\n",
       "</div>"
      ],
      "text/plain": [
       "   usertype                date\n",
       "0         1 2015-06-01 00:00:00\n",
       "1         1 2015-06-01 00:00:00\n",
       "2         1 2015-06-01 00:01:00\n",
       "3         1 2015-06-01 00:01:00\n",
       "4         0 2015-06-01 00:02:00"
      ]
     },
     "execution_count": 22,
     "metadata": {},
     "output_type": "execute_result"
    }
   ],
   "source": [
    "#reassigning customer as 0 and subscriber as 1\n",
    "df_06.usertype = df_06.usertype.replace('Customer', 0)\n",
    "df_06.usertype = df_06.usertype.replace('Subscriber', 1)\n",
    "df_06.head()"
   ]
  },
  {
   "cell_type": "markdown",
   "metadata": {},
   "source": [
    "As we found out in the analysis for March 2015, it is difficult to compare absolute numbers. Therefore, in this analysis for June 2015, the analysis is only conducted on the normalised data."
   ]
  },
  {
   "cell_type": "code",
   "execution_count": 23,
   "metadata": {
    "collapsed": false
   },
   "outputs": [
    {
     "data": {
      "text/plain": [
       "<matplotlib.text.Text at 0x7f58da1f9c90>"
      ]
     },
     "execution_count": 23,
     "metadata": {},
     "output_type": "execute_result"
    },
    {
     "data": {
      "image/png": "[encoded data removed]",
      "text/plain": [
       "<matplotlib.figure.Figure at 0x7f58da1f48d0>"
      ]
     },
     "metadata": {},
     "output_type": "display_data"
    }
   ],
   "source": [
    "#difficult to compare absolute numbers, normalise the distribution of subscibers and customers \n",
    "\n",
    "fig2=pl.figure(figsize(8,8))\n",
    "\n",
    "counts_c6 = df_06.date[df_06.usertype == 0].groupby([df_06.date.dt.weekday]).count()\n",
    "norm_c6 = counts_c6.sum()\n",
    "error_c6= np.sqrt(counts_c6)\n",
    "((counts_c6) / norm_c6).plot(kind=\"bar\", color='IndianRed',  \n",
    "                           yerr=[((error_c6) / norm_c6, (error_c6) / norm_c6)], \n",
    "                           label='Customers')\n",
    "counts_s6 = df_06.date[df_06.usertype==1].groupby([df_06.date.dt.weekday]).count()\n",
    "norm_s6 = counts_s6.sum()\n",
    "error_s6 = np.sqrt(counts_s6)\n",
    "ax = ((counts_s6) / norm_s6).plot(kind=\"bar\", alpha=0.5, \n",
    "                                yerr=[((error_s6) / norm_s6, (error_s6) / norm_s6)], \n",
    "                                color='SteelBlue', label='Subscribers')\n",
    "\n",
    "ax.xaxis.set_ticklabels(['Mon', 'Tue', 'Wed', 'Thu', 'Fri', 'Sat', 'Sun'], fontsize=15)\n",
    "ax.set_ylabel (\"Fraction of rides\", fontsize=15)\n",
    "ax.set_xlabel (\"Day of the week\", fontsize=15)\n",
    "\n",
    "pl.legend(['customers','subscribers'],fontsize=15, loc='upper left')\n",
    "pl.title('Normalised Distribution of Citibike Users by User Type in June, 2015', fontsize=15)"
   ]
  },
  {
   "cell_type": "markdown",
   "metadata": {},
   "source": [
    "Figure 5: Distribution of Citibike bikers by gender in June 2015, normalized\n",
    "\n",
    "From the normalized plot, we can see that the fraction of subscribers using the citibikes is higher on weekdays, while the fraction of customers using the bikes are higher on weekends. This is similar to what we observed in March 2015"
   ]
  },
  {
   "cell_type": "code",
   "execution_count": 24,
   "metadata": {
    "collapsed": false,
    "scrolled": false
   },
   "outputs": [
    {
     "name": "stdout",
     "output_type": "stream",
     "text": [
      "Subscriber: week:0.817, weekend:0.183, weekend error:0.001, weekend error:0.000\n",
      "Customer: week:0.600, weekend:0.400, weekend error:0.002, weekend error:0.002\n"
     ]
    },
    {
     "data": {
      "text/plain": [
       "<matplotlib.legend.Legend at 0x7f58d808a3d0>"
      ]
     },
     "execution_count": 24,
     "metadata": {},
     "output_type": "execute_result"
    },
    {
     "data": {
      "image/png": "[encoded data removed]",
      "text/plain": [
       "<matplotlib.figure.Figure at 0x7f58d8198a10>"
      ]
     },
     "metadata": {},
     "output_type": "display_data"
    }
   ],
   "source": [
    "fig = pl.figure(figsize(15,6))\n",
    "ax1 = fig.add_subplot(121)\n",
    "ax2 = fig.add_subplot(122)\n",
    "ax1.set_xticks([])\n",
    "ax2.set_xticks([])\n",
    "\n",
    "week_c6 = sum(counts_c6[:-2]) * 1.0 / norm_c6  #fraction of customers riding on week days\n",
    "weekend_c6 = sum(counts_c6[-2:]) * 1.0 / norm_c6  #fraction of customers riding on weekends\n",
    "eweek_c6 = np.sqrt(sum(error_c6[:-2]**2)) / norm_c6  #error on fraction number of customers riding on week days\n",
    "eweekend_c6 = np.sqrt(sum(error_c6[-2:]**2)) / norm_c6 #error on fraction number of customers riding on weekends\n",
    "\n",
    "#same nomenclature as above\n",
    "week_s6 = sum(counts_s6[:-2]) * 1.0 / norm_s6\n",
    "weekend_s6 = sum(counts_s6[-2:]) * 1.0 / norm_s6\n",
    "eweek_s6 = np.sqrt(sum(error_s6[:-2]**2)) / norm_s6\n",
    "eweekend_s6 = np.sqrt(sum(error_s6[-2:]**2)) / norm_s6\n",
    "\n",
    "print(\"Subscriber: week:{0:.3f}, weekend:{1:.3f}, weekend error:{2:.3f}, weekend error:{3:.3f}\"\\\n",
    "      .format(week_s6, weekend_s6, eweek_s6, eweekend_s6))\n",
    "print(\"Customer: week:{0:.3f}, weekend:{1:.3f}, weekend error:{2:.3f}, weekend error:{3:.3f}\"\\\n",
    "      .format(week_c6, weekend_c6, eweek_c6, eweekend_c6))\n",
    "\n",
    "ax1.errorbar([0.4], [week_s6], yerr=[eweek_s6], fmt='o', label='Subscriber')\n",
    "ax1.errorbar([0.2], [week_c6], yerr=[eweek_c6], fmt='o', label='Customer')\n",
    "ax1.set_xlim(0, 0.5)\n",
    "ax2.errorbar([0.4], [weekend_s6], yerr=[eweekend_s6], fmt='o', label='Subscriber')\n",
    "ax2.errorbar([0.2], [weekend_c6], yerr=[eweekend_c6], fmt='o', label='Customer')\n",
    "ax1.set_xlim(0, 0.5)\n",
    "ax1.set_title(\"week days\", fontsize=15)\n",
    "ax2.set_title(\"weekends\", fontsize=15)\n",
    "ax2.set_ylabel(\"Fraction of normalized rides by user type\", fontsize=15)\n",
    "ax1.set_ylabel(\"Fraction of normalized rides by user type\", fontsize=15) \n",
    "\n",
    "pl.xlim(-0.5, 1.5)\n",
    "pl.legend(fontsize = 20)"
   ]
  },
  {
   "cell_type": "markdown",
   "metadata": {},
   "source": [
    "Figure 6: Fraction of Citibike bikers per user type in June 2015 for week days (left) and weekends (right)"
   ]
  },
  {
   "cell_type": "code",
   "execution_count": 25,
   "metadata": {
    "collapsed": false
   },
   "outputs": [
    {
     "name": "stdout",
     "output_type": "stream",
     "text": [
      "chi sq statistics for \"null\": chisq = 31520.972, DOF = 1\n"
     ]
    }
   ],
   "source": [
    "val6  = np.array([[week_c6*norm_c6, weekend_c6*norm_c6], [week_s6*norm_s6, weekend_s6*norm_s6]])\n",
    "chisq_val6 = evalChisq(val6)\n",
    "DOF = len(val6) - 1\n",
    "print ('chi sq statistics for \"null\": '+\n",
    "       'chisq = {:.3f}, DOF = {:d}'.format(chisq_val6, DOF))"
   ]
  },
  {
   "cell_type": "code",
   "execution_count": 26,
   "metadata": {
    "collapsed": false
   },
   "outputs": [
    {
     "name": "stdout",
     "output_type": "stream",
     "text": [
      "The Null hypothesis that the ratio of customers riding over weekend to weekday is same or less than the ratio of subscirbers riding on weekends over weekdays,\n",
      "can be rejected at alpha = 0.05\n",
      "with a chi square statistics of 31520.97\n"
     ]
    }
   ],
   "source": [
    "chimin_alpha5pc = 3.84\n",
    "print (\"The Null hypothesis that the ratio of customers riding over weekend to weekday is same or less than the ratio of subscirbers riding on weekends over weekdays,\")\n",
    "if chisq_val6 > chimin_alpha5pc :\n",
    "    print (\"can be rejected at alpha = 0.05\")\n",
    "else: \n",
    "    print (\"cannot be rejected (p<0.05)\")\n",
    "print (\"with a chi square statistics of %.2f\"%chisq_val6 )"
   ]
  },
  {
   "cell_type": "markdown",
   "metadata": {},
   "source": [
    "The chi square statistics of 31520.97 exceeds 3.84 at the existing significance level of 0.05, the results are statistically significant, and we can reject the null hypothesis that the ratio of customers riding over weekend to riding weekday is same or less than the ratio of subscribers riding on weekends over weekday. This can also be observed from the Figure 5, where the distribution of customers on weekends far exceeds that of subscribers."
   ]
  },
  {
   "cell_type": "code",
   "execution_count": null,
   "metadata": {
    "collapsed": true
   },
   "outputs": [],
   "source": []
  }
 ],
 "metadata": {
  "kernelspec": {
   "display_name": "PUI2016_Python2",
   "language": "python",
   "name": "pui2016_python2"
  },
  "language_info": {
   "codemirror_mode": {
    "name": "ipython",
    "version": 2
   },
   "file_extension": ".py",
   "mimetype": "text/x-python",
   "name": "python",
   "nbconvert_exporter": "python",
   "pygments_lexer": "ipython2",
   "version": "2.7.12"
  }
 },
 "nbformat": 4,
 "nbformat_minor": 0
}
